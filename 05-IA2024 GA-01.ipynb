{
  "cells": [
    {
      "cell_type": "markdown",
      "metadata": {
        "id": "mczJSoCz5dk5"
      },
      "source": [
        "\n",
        "##Algoritmos Genéticos\n",
        "\n",
        "fork de joseprupi"
      ]
    },
    {
      "cell_type": "code",
      "execution_count": 1,
      "metadata": {
        "id": "iDQw3A-N4z_T"
      },
      "outputs": [],
      "source": [
        "import random\n",
        "\n",
        "import numpy as np\n",
        "import matplotlib.pyplot as plt"
      ]
    },
    {
      "cell_type": "code",
      "execution_count": 2,
      "metadata": {
        "id": "3cRgOFmz4z_W"
      },
      "outputs": [],
      "source": [
        "population = 500\n",
        "mutations = 0.005"
      ]
    },
    {
      "cell_type": "code",
      "execution_count": 3,
      "metadata": {
        "colab": {
          "base_uri": "https://localhost:8080/",
          "height": 430
        },
        "id": "RZwCx8qV4z_W",
        "outputId": "e8055354-6573-4a9b-98cc-7a3e020f7609"
      },
      "outputs": [
        {
          "data": {
            "image/png": "[encoded data removed]",
            "text/plain": [
              "<Figure size 640x480 with 1 Axes>"
            ]
          },
          "metadata": {},
          "output_type": "display_data"
        }
      ],
      "source": [
        "img = np.random.randint(2, size=(15,15))\n",
        "plt.imshow(img, cmap=plt.cm.gray)\n",
        "plt.show()"
      ]
    },
    {
      "cell_type": "code",
      "execution_count": 4,
      "metadata": {
        "id": "_2f2JG0O4z_X"
      },
      "outputs": [],
      "source": [
        "def ga(array, population, mutations):\n",
        "\n",
        "    def score(matrix1, matrix2):\n",
        "        return (matrix1 == matrix2).sum()\n",
        "\n",
        "    rows = array.shape[0]\n",
        "    columns = array.shape[1]\n",
        "    mid = rows//2\n",
        "\n",
        "    mem = np.random.randint(2, size=(2 * population, rows, columns))\n",
        "    scores = np.zeros((2 * population))\n",
        "    bottom = list(range(len(mem)))\n",
        "\n",
        "    for i in range(1000000):\n",
        "\n",
        "        # Bottom will contain all the random individuals generated when starting the execution\n",
        "        # and the new individuals after the first iteration. Bottom means the bottom of the list\n",
        "        # sorted by score\n",
        "        for k in bottom:\n",
        "            scores[k] = score(mem[k], array)\n",
        "\n",
        "        # Check if the solution has been found\n",
        "        max_score = np.argmax(scores)\n",
        "        if scores[max_score] == rows * columns:\n",
        "            print(i)\n",
        "            plt.imshow(mem[max_score], cmap=plt.cm.gray)  # use appropriate colormap here\n",
        "            plt.show()\n",
        "            break\n",
        "\n",
        "        # Select the population of individuals according to the score function\n",
        "        top_n_scores = np.argpartition(scores, population)\n",
        "        top = top_n_scores[population:]\n",
        "        bottom = top_n_scores[:population]\n",
        "\n",
        "        # Create #population new elements from the crossover and mutation\n",
        "        for j in range(population):\n",
        "\n",
        "            # Crossover -> Select parents from the top individuals\n",
        "            #\n",
        "            # I tried this with random choice and just picking a random position\n",
        "            # from the top and the next one and the result is the same but way faster\n",
        "            # It might be because of either the randomization of the initial population or maybe\n",
        "            # the implementation of argpartition? or both?\n",
        "            r = random.randrange(len(top))\n",
        "            idx = [r, (r+1)%len(top)]\n",
        "            parents = [top[idx[0]],top[idx[1]]]\n",
        "\n",
        "            mem[bottom[j]][0:mid] = mem[parents[0]][0:mid]\n",
        "            mem[bottom[j]][-(mid+1):] = mem[parents[1]][-(mid+1):]\n",
        "\n",
        "            # Mutation -> Mutate the bits\n",
        "            #\n",
        "            # The random choice of the bits to mutate is the most costly of the implementation\n",
        "            # It seems there has to be some way to speed up this\n",
        "            idx = np.random.choice([0,1], p=[(1-mutations), mutations],size=(rows,columns))\n",
        "            mem[bottom[j]] = abs(mem[bottom[j]] - idx)\n"
      ]
    },
    {
      "cell_type": "code",
      "execution_count": 5,
      "metadata": {
        "colab": {
          "base_uri": "https://localhost:8080/",
          "height": 447
        },
        "id": "eHMw14Dq4z_X",
        "outputId": "e4574520-478b-41f8-e2a4-e5a8ae1e3c96"
      },
      "outputs": [
        {
          "name": "stdout",
          "output_type": "stream",
          "text": [
            "159\n"
          ]
        },
        {
          "data": {
            "image/png": "[encoded data removed]",
            "text/plain": [
              "<Figure size 640x480 with 1 Axes>"
            ]
          },
          "metadata": {},
          "output_type": "display_data"
        }
      ],
      "source": [
        "ga(img, population, mutations)"
      ]
    }
  ],
  "metadata": {
    "colab": {
      "provenance": []
    },
    "kernelspec": {
      "display_name": "Python 3",
      "language": "python",
      "name": "python3"
    },
    "language_info": {
      "codemirror_mode": {
        "name": "ipython",
        "version": 3
      },
      "file_extension": ".py",
      "mimetype": "text/x-python",
      "name": "python",
      "nbconvert_exporter": "python",
      "pygments_lexer": "ipython3",
      "version": "3.10.12"
    },
    "orig_nbformat": 4
  },
  "nbformat": 4,
  "nbformat_minor": 0
}
