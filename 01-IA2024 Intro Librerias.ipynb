{
 "cells": [
  {
   "cell_type": "markdown",
   "metadata": {
    "id": "-BUIxMGstvYC"
   },
   "source": [
    "\n",
    "# **Librerias para ML**\n",
    "\n",
    "### En esta notebook vamos a ver brevemente algunas librerias utilizadas en ML\n",
    "\n",
    "* Numpy\n",
    "* Pandas\n",
    "* Matplotlib\n",
    "* (Seaborn)\n",
    "* (Scikit Learn)\n",
    "\n",
    "## Numpy: Numerical Python\n",
    "\n",
    "Vamos a importar la libreria y a crear algunos arrays.\n"
   ]
  },
  {
   "cell_type": "code",
   "execution_count": 3,
   "metadata": {},
   "outputs": [
    {
     "name": "stdout",
     "output_type": "stream",
     "text": [
      "Defaulting to user installation because normal site-packages is not writeable\n",
      "Collecting numpy\n",
      "  Downloading numpy-2.0.1-cp310-cp310-manylinux_2_17_x86_64.manylinux2014_x86_64.whl (19.5 MB)\n",
      "\u001b[2K     \u001b[90m━━━━━━━━━━━━━━━━━━━━━━━━━━━━━━━━━━━━━━━━\u001b[0m \u001b[32m19.5/19.5 MB\u001b[0m \u001b[31m44.2 MB/s\u001b[0m eta \u001b[36m0:00:00\u001b[0m00:01\u001b[0m00:01\u001b[0m\n",
      "\u001b[?25hInstalling collected packages: numpy\n",
      "Successfully installed numpy-2.0.1\n",
      "Note: you may need to restart the kernel to use updated packages.\n"
     ]
    }
   ],
   "source": [
    "pip install numpy"
   ]
  },
  {
   "cell_type": "code",
   "execution_count": 4,
   "metadata": {
    "id": "jX8Nd1JWtu_b"
   },
   "outputs": [],
   "source": [
    "import numpy as np"
   ]
  },
  {
   "cell_type": "code",
   "execution_count": 6,
   "metadata": {},
   "outputs": [
    {
     "name": "stdout",
     "output_type": "stream",
     "text": [
      "Defaulting to user installation because normal site-packages is not writeable\n",
      "Collecting pandas\n",
      "  Downloading pandas-2.2.2-cp310-cp310-manylinux_2_17_x86_64.manylinux2014_x86_64.whl (13.0 MB)\n",
      "\u001b[2K     \u001b[90m━━━━━━━━━━━━━━━━━━━━━━━━━━━━━━━━━━━━━━━━\u001b[0m \u001b[32m13.0/13.0 MB\u001b[0m \u001b[31m19.6 MB/s\u001b[0m eta \u001b[36m0:00:00\u001b[0m00:01\u001b[0m00:01\u001b[0m\n",
      "\u001b[?25hCollecting tzdata>=2022.7\n",
      "  Downloading tzdata-2024.1-py2.py3-none-any.whl (345 kB)\n",
      "\u001b[2K     \u001b[90m━━━━━━━━━━━━━━━━━━━━━━━━━━━━━━━━━━━━━━\u001b[0m \u001b[32m345.4/345.4 KB\u001b[0m \u001b[31m30.8 MB/s\u001b[0m eta \u001b[36m0:00:00\u001b[0m\n",
      "\u001b[?25hRequirement already satisfied: numpy>=1.22.4 in /home/matiye/.local/lib/python3.10/site-packages (from pandas) (2.0.1)\n",
      "Requirement already satisfied: python-dateutil>=2.8.2 in /home/matiye/.local/lib/python3.10/site-packages (from pandas) (2.9.0.post0)\n",
      "Requirement already satisfied: pytz>=2020.1 in /usr/lib/python3/dist-packages (from pandas) (2022.1)\n",
      "Requirement already satisfied: six>=1.5 in /usr/lib/python3/dist-packages (from python-dateutil>=2.8.2->pandas) (1.16.0)\n",
      "Installing collected packages: tzdata, pandas\n",
      "Successfully installed pandas-2.2.2 tzdata-2024.1\n",
      "Note: you may need to restart the kernel to use updated packages.\n"
     ]
    }
   ],
   "source": [
    "pip install pandas"
   ]
  },
  {
   "cell_type": "code",
   "execution_count": 7,
   "metadata": {
    "colab": {
     "base_uri": "https://localhost:8080/",
     "height": 300
    },
    "id": "4Ht4obS6mUu5",
    "outputId": "f20f1e86-b6b7-4ce1-bb02-5952b42ebd06"
   },
   "outputs": [
    {
     "data": {
      "text/html": [
       "<div>\n",
       "<style scoped>\n",
       "    .dataframe tbody tr th:only-of-type {\n",
       "        vertical-align: middle;\n",
       "    }\n",
       "\n",
       "    .dataframe tbody tr th {\n",
       "        vertical-align: top;\n",
       "    }\n",
       "\n",
       "    .dataframe thead th {\n",
       "        text-align: right;\n",
       "    }\n",
       "</style>\n",
       "<table border=\"1\" class=\"dataframe\">\n",
       "  <thead>\n",
       "    <tr style=\"text-align: right;\">\n",
       "      <th></th>\n",
       "      <th>#</th>\n",
       "      <th>Total</th>\n",
       "      <th>HP</th>\n",
       "      <th>Attack</th>\n",
       "      <th>Defense</th>\n",
       "      <th>Sp. Atk</th>\n",
       "      <th>Sp. Def</th>\n",
       "      <th>Speed</th>\n",
       "      <th>Generation</th>\n",
       "    </tr>\n",
       "  </thead>\n",
       "  <tbody>\n",
       "    <tr>\n",
       "      <th>count</th>\n",
       "      <td>800.000000</td>\n",
       "      <td>800.00000</td>\n",
       "      <td>800.000000</td>\n",
       "      <td>800.000000</td>\n",
       "      <td>800.000000</td>\n",
       "      <td>800.000000</td>\n",
       "      <td>800.000000</td>\n",
       "      <td>800.000000</td>\n",
       "      <td>800.00000</td>\n",
       "    </tr>\n",
       "    <tr>\n",
       "      <th>mean</th>\n",
       "      <td>362.813750</td>\n",
       "      <td>435.10250</td>\n",
       "      <td>69.258750</td>\n",
       "      <td>79.001250</td>\n",
       "      <td>73.842500</td>\n",
       "      <td>72.820000</td>\n",
       "      <td>71.902500</td>\n",
       "      <td>68.277500</td>\n",
       "      <td>3.32375</td>\n",
       "    </tr>\n",
       "    <tr>\n",
       "      <th>std</th>\n",
       "      <td>208.343798</td>\n",
       "      <td>119.96304</td>\n",
       "      <td>25.534669</td>\n",
       "      <td>32.457366</td>\n",
       "      <td>31.183501</td>\n",
       "      <td>32.722294</td>\n",
       "      <td>27.828916</td>\n",
       "      <td>29.060474</td>\n",
       "      <td>1.66129</td>\n",
       "    </tr>\n",
       "    <tr>\n",
       "      <th>min</th>\n",
       "      <td>1.000000</td>\n",
       "      <td>180.00000</td>\n",
       "      <td>1.000000</td>\n",
       "      <td>5.000000</td>\n",
       "      <td>5.000000</td>\n",
       "      <td>10.000000</td>\n",
       "      <td>20.000000</td>\n",
       "      <td>5.000000</td>\n",
       "      <td>1.00000</td>\n",
       "    </tr>\n",
       "    <tr>\n",
       "      <th>25%</th>\n",
       "      <td>184.750000</td>\n",
       "      <td>330.00000</td>\n",
       "      <td>50.000000</td>\n",
       "      <td>55.000000</td>\n",
       "      <td>50.000000</td>\n",
       "      <td>49.750000</td>\n",
       "      <td>50.000000</td>\n",
       "      <td>45.000000</td>\n",
       "      <td>2.00000</td>\n",
       "    </tr>\n",
       "    <tr>\n",
       "      <th>50%</th>\n",
       "      <td>364.500000</td>\n",
       "      <td>450.00000</td>\n",
       "      <td>65.000000</td>\n",
       "      <td>75.000000</td>\n",
       "      <td>70.000000</td>\n",
       "      <td>65.000000</td>\n",
       "      <td>70.000000</td>\n",
       "      <td>65.000000</td>\n",
       "      <td>3.00000</td>\n",
       "    </tr>\n",
       "    <tr>\n",
       "      <th>75%</th>\n",
       "      <td>539.250000</td>\n",
       "      <td>515.00000</td>\n",
       "      <td>80.000000</td>\n",
       "      <td>100.000000</td>\n",
       "      <td>90.000000</td>\n",
       "      <td>95.000000</td>\n",
       "      <td>90.000000</td>\n",
       "      <td>90.000000</td>\n",
       "      <td>5.00000</td>\n",
       "    </tr>\n",
       "    <tr>\n",
       "      <th>max</th>\n",
       "      <td>721.000000</td>\n",
       "      <td>780.00000</td>\n",
       "      <td>255.000000</td>\n",
       "      <td>190.000000</td>\n",
       "      <td>230.000000</td>\n",
       "      <td>194.000000</td>\n",
       "      <td>230.000000</td>\n",
       "      <td>180.000000</td>\n",
       "      <td>6.00000</td>\n",
       "    </tr>\n",
       "  </tbody>\n",
       "</table>\n",
       "</div>"
      ],
      "text/plain": [
       "                #      Total          HP      Attack     Defense     Sp. Atk  \\\n",
       "count  800.000000  800.00000  800.000000  800.000000  800.000000  800.000000   \n",
       "mean   362.813750  435.10250   69.258750   79.001250   73.842500   72.820000   \n",
       "std    208.343798  119.96304   25.534669   32.457366   31.183501   32.722294   \n",
       "min      1.000000  180.00000    1.000000    5.000000    5.000000   10.000000   \n",
       "25%    184.750000  330.00000   50.000000   55.000000   50.000000   49.750000   \n",
       "50%    364.500000  450.00000   65.000000   75.000000   70.000000   65.000000   \n",
       "75%    539.250000  515.00000   80.000000  100.000000   90.000000   95.000000   \n",
       "max    721.000000  780.00000  255.000000  190.000000  230.000000  194.000000   \n",
       "\n",
       "          Sp. Def       Speed  Generation  \n",
       "count  800.000000  800.000000   800.00000  \n",
       "mean    71.902500   68.277500     3.32375  \n",
       "std     27.828916   29.060474     1.66129  \n",
       "min     20.000000    5.000000     1.00000  \n",
       "25%     50.000000   45.000000     2.00000  \n",
       "50%     70.000000   65.000000     3.00000  \n",
       "75%     90.000000   90.000000     5.00000  \n",
       "max    230.000000  180.000000     6.00000  "
      ]
     },
     "execution_count": 7,
     "metadata": {},
     "output_type": "execute_result"
    }
   ],
   "source": [
    "import pandas as pd\n",
    "\n",
    "url = \"https://gist.githubusercontent.com/armgilles/194bcff35001e7eb53a2a8b441e8b2c6/raw/92200bc0a673d5ce2110aaad4544ed6c4010f687/pokemon.csv\"\n",
    "df = pd.read_csv(url)\n",
    "\n",
    "df.describe()\n"
   ]
  },
  {
   "cell_type": "code",
   "execution_count": 8,
   "metadata": {
    "colab": {
     "base_uri": "https://localhost:8080/"
    },
    "id": "TiKIRzIjxhgj",
    "outputId": "b1adeff1-69b3-4759-8a82-c486935d9d9c"
   },
   "outputs": [
    {
     "name": "stdout",
     "output_type": "stream",
     "text": [
      "[[1 2 3]\n",
      " [4 5 6]]\n",
      "\n",
      "-- arr.shape =  (2, 3)\n",
      "-- nro Filas =  2\n",
      "-- nro Columnas =  3\n",
      "-- nro de axis o ndim =  2\n"
     ]
    }
   ],
   "source": [
    "arr = np.array([[1,2,3],[4,5,6]])\n",
    "print(arr)\n",
    "\n",
    "# Dimensiones del array\n",
    "print(\"\\n-- arr.shape = \",arr.shape)\n",
    "\n",
    "n_filas, n_col = arr.shape\n",
    "\n",
    "print(\"-- nro Filas = \", n_filas)\n",
    "print(\"-- nro Columnas = \", n_col)\n",
    "print(\"-- nro de axis o ndim = \", arr.ndim)\n"
   ]
  },
  {
   "cell_type": "markdown",
   "metadata": {
    "id": "n6Ebp3T_0dL0"
   },
   "source": [
    "\n",
    "### Cuidado con los arrays de shapes \"parecidos\".\n"
   ]
  },
  {
   "cell_type": "code",
   "execution_count": 9,
   "metadata": {
    "colab": {
     "base_uri": "https://localhost:8080/"
    },
    "id": "sqj5MS8ltg8o",
    "outputId": "6ac0973a-bede-4b7d-e5ad-30ea1cdc413e"
   },
   "outputs": [
    {
     "name": "stdout",
     "output_type": "stream",
     "text": [
      "------------------------------------------------------------------------\n",
      "X =  [1 2 3 4 5]\n",
      "Y =  [[1]\n",
      " [2]\n",
      " [3]\n",
      " [4]\n",
      " [5]]\n",
      "Z =  [[1 2 3 4 5]]\n",
      "------------------------------------------------------------------------\n",
      "\n",
      "X.shape =  (5,)\n",
      "Y.shape =  (5, 1)\n",
      "Z.shape =  (1, 5)\n",
      "------------------------------------------------------------------------\n",
      "\n",
      "X.ndim =  1\n",
      "Y.ndim =  2\n",
      "Z.ndim =  2\n",
      "------------------------------------------------------------------------\n",
      "\n",
      "X.transpose() =  [1 2 3 4 5]\n",
      "\n",
      "Y.transpose() =  [[1 2 3 4 5]]\n",
      "\n",
      "Z.transpose() =  [[1]\n",
      " [2]\n",
      " [3]\n",
      " [4]\n",
      " [5]]\n",
      "------------------------------------------------------------------------\n",
      "X.size (cant. elementos) =  5\n",
      "Y.size (cant. elementos) =  5\n",
      "Z.size (cant. elementos) =  5\n"
     ]
    }
   ],
   "source": [
    "# Creamos dos array tipo Vector\n",
    "X = np.array([1,2,3,4,5])\n",
    "Y = np.array(([1,2,3,4,5])).reshape(-1,1)\n",
    "Z = np.array(([1,2,3,4,5])).reshape(1,-1)\n",
    "\n",
    "print(\"------------------------------------------------------------------------\")\n",
    "print(\"X = \", X)\n",
    "print(\"Y = \", Y)\n",
    "print(\"Z = \", Z)\n",
    "\n",
    "print(\"------------------------------------------------------------------------\")\n",
    "print(\"\\nX.shape = \", X.shape)\n",
    "print(\"Y.shape = \", Y.shape)\n",
    "print(\"Z.shape = \", Z.shape)\n",
    "\n",
    "print(\"------------------------------------------------------------------------\")\n",
    "print(\"\\nX.ndim = \", X.ndim)\n",
    "print(\"Y.ndim = \", Y.ndim)\n",
    "print(\"Z.ndim = \", Z.ndim)\n",
    "print(\"------------------------------------------------------------------------\")\n",
    "\n",
    "print(\"\\nX.transpose() = \", X.transpose())\n",
    "print(\"\\nY.transpose() = \", Y.transpose())\n",
    "print(\"\\nZ.transpose() = \", Z.transpose())\n",
    "print(\"------------------------------------------------------------------------\")\n",
    "print(\"X.size (cant. elementos) = \", X.size) # cantidad de elementos\n",
    "print(\"Y.size (cant. elementos) = \", Y.size) # cantidad de elementos\n",
    "print(\"Z.size (cant. elementos) = \", Z.size) # cantidad de elementos\n",
    "\n"
   ]
  },
  {
   "cell_type": "markdown",
   "metadata": {
    "id": "qO9TYgjk0ozj"
   },
   "source": [
    "\n",
    "## Operaciones entre arrays\n",
    "\n",
    "### Cuidado con el broadcast de numpy!!\n"
   ]
  },
  {
   "cell_type": "code",
   "execution_count": 10,
   "metadata": {
    "colab": {
     "base_uri": "https://localhost:8080/"
    },
    "id": "7fMGnU3-0tEq",
    "outputId": "dabeeac7-a1b9-4d04-f73e-3b34e1e730b3"
   },
   "outputs": [
    {
     "name": "stdout",
     "output_type": "stream",
     "text": [
      "------------------------------------------------------------------------\n",
      "X1 \n",
      "[[ 0  1  2  3]\n",
      " [ 4  5  6  7]\n",
      " [ 8  9 10 11]\n",
      " [12 13 14 15]\n",
      " [16 17 18 19]]\n",
      "------------------------------------------------------------------------\n",
      "X2\n",
      "[[10 11 12 13]\n",
      " [14 15 16 17]\n",
      " [18 19 20 21]\n",
      " [22 23 24 25]\n",
      " [26 27 28 29]]\n",
      "------------------------------------------------------------------------\n"
     ]
    }
   ],
   "source": [
    "# Vamos a crear dos array de 5 filas x 4 columnas\n",
    "X1 = np.arange(20).reshape(5, 4)\n",
    "X2 = np.arange(10, 30).reshape(5,4)\n",
    "print(\"------------------------------------------------------------------------\")\n",
    "print(\"X1 \")\n",
    "print(X1)\n",
    "print(\"------------------------------------------------------------------------\")\n",
    "print(\"X2\")\n",
    "print(X2)\n",
    "print(\"------------------------------------------------------------------------\")"
   ]
  },
  {
   "cell_type": "markdown",
   "metadata": {
    "id": "BFjYcj3x17Rd"
   },
   "source": [
    "\n",
    "#### Suma entre arrays de las mismas dimensiones\n"
   ]
  },
  {
   "cell_type": "code",
   "execution_count": 12,
   "metadata": {
    "colab": {
     "base_uri": "https://localhost:8080/"
    },
    "id": "yyWrzesS1sa9",
    "outputId": "f2441db3-1ad8-42a6-956b-2f9019d2218f"
   },
   "outputs": [
    {
     "name": "stdout",
     "output_type": "stream",
     "text": [
      "[[10 12 14 16]\n",
      " [18 20 22 24]\n",
      " [26 28 30 32]\n",
      " [34 36 38 40]\n",
      " [42 44 46 48]]\n"
     ]
    }
   ],
   "source": [
    "# Suma entre arrays con las mismas dimensiones\n",
    "X1_mas_X2 = X1 + X2\n",
    "\n",
    "print(X1_mas_X2)"
   ]
  },
  {
   "cell_type": "markdown",
   "metadata": {
    "id": "sfT3Eszd2D2b"
   },
   "source": [
    "\n",
    "#### Suma entre array y escalar"
   ]
  },
  {
   "cell_type": "code",
   "execution_count": 13,
   "metadata": {
    "colab": {
     "base_uri": "https://localhost:8080/"
    },
    "id": "u7EH4gu22LO7",
    "outputId": "cb46e26f-a032-4b06-cb9b-224e2124091c"
   },
   "outputs": [
    {
     "name": "stdout",
     "output_type": "stream",
     "text": [
      "X1\n",
      "[[ 0  1  2  3]\n",
      " [ 4  5  6  7]\n",
      " [ 8  9 10 11]\n",
      " [12 13 14 15]\n",
      " [16 17 18 19]]\n",
      "------------------------------------------------------------------------\n",
      "Le sumamos 100 a cada elemento\n",
      "[[100 101 102 103]\n",
      " [104 105 106 107]\n",
      " [108 109 110 111]\n",
      " [112 113 114 115]\n",
      " [116 117 118 119]]\n"
     ]
    }
   ],
   "source": [
    "print(\"X1\")\n",
    "print(X1)\n",
    "print(\"------------------------------------------------------------------------\")\n",
    "print(\"Le sumamos 100 a cada elemento\")\n",
    "print(X1 + 100)  # Broadcast"
   ]
  },
  {
   "cell_type": "markdown",
   "metadata": {
    "id": "AB2w8BJE2bLC"
   },
   "source": [
    "\n",
    "#### Suma entre arrays de distintas dimensiones\n"
   ]
  },
  {
   "cell_type": "code",
   "execution_count": 14,
   "metadata": {
    "colab": {
     "base_uri": "https://localhost:8080/"
    },
    "id": "FOno9HmW07-r",
    "outputId": "07414a8b-c578-496c-b6e7-8d9323e89600"
   },
   "outputs": [
    {
     "name": "stdout",
     "output_type": "stream",
     "text": [
      "X1.shape =  (5, 4)\n",
      "X1\n",
      "[[ 0  1  2  3]\n",
      " [ 4  5  6  7]\n",
      " [ 8  9 10 11]\n",
      " [12 13 14 15]\n",
      " [16 17 18 19]]\n",
      "-----------------------------------------------------------------------\n",
      "Y.shape =  (4,)\n",
      "Y\n",
      "[19 15  0 19]\n",
      "-----------------------------------------------------------------------\n"
     ]
    }
   ],
   "source": [
    "Y = np.random.randint(20,size=4)\n",
    "Z = np.random.randint(20,size=5)\n",
    "\n",
    "print(\"X1.shape = \", X1.shape)\n",
    "print(\"X1\")\n",
    "print(X1)\n",
    "\n",
    "print(\"-----------------------------------------------------------------------\")\n",
    "print(\"Y.shape = \", Y.shape)\n",
    "print(\"Y\")\n",
    "print(Y)\n",
    "\n",
    "print(\"-----------------------------------------------------------------------\")\n",
    "\n",
    "\n",
    "\n"
   ]
  },
  {
   "cell_type": "code",
   "execution_count": 20,
   "metadata": {},
   "outputs": [
    {
     "name": "stdout",
     "output_type": "stream",
     "text": [
      "X1+Y\n",
      "[[19 16  2 22]\n",
      " [23 20  6 26]\n",
      " [27 24 10 30]\n",
      " [31 28 14 34]\n",
      " [35 32 18 38]]\n",
      "\n",
      "X1+Z\n"
     ]
    },
    {
     "ename": "ValueError",
     "evalue": "operands could not be broadcast together with shapes (5,4) (5,) ",
     "output_type": "error",
     "traceback": [
      "\u001b[0;31m---------------------------------------------------------------------------\u001b[0m",
      "\u001b[0;31mValueError\u001b[0m                                Traceback (most recent call last)",
      "Cell \u001b[0;32mIn[20], line 8\u001b[0m\n\u001b[1;32m      6\u001b[0m \u001b[38;5;66;03m# Esto explota!!!\u001b[39;00m\n\u001b[1;32m      7\u001b[0m \u001b[38;5;28mprint\u001b[39m(\u001b[38;5;124m\"\u001b[39m\u001b[38;5;124mX1+Z\u001b[39m\u001b[38;5;124m\"\u001b[39m)\n\u001b[0;32m----> 8\u001b[0m \u001b[38;5;28mprint\u001b[39m(\u001b[43mX1\u001b[49m\u001b[38;5;241;43m+\u001b[39;49m\u001b[43mZ\u001b[49m)\n",
      "\u001b[0;31mValueError\u001b[0m: operands could not be broadcast together with shapes (5,4) (5,) "
     ]
    }
   ],
   "source": [
    "# Esto explota?\n",
    "print(\"X1+Y\")\n",
    "print(X1+Y)\n",
    "print()\n",
    "\n",
    "# Esto explota!!!\n",
    "print(\"X1+Z\")\n",
    "print(X1+Z)"
   ]
  },
  {
   "cell_type": "markdown",
   "metadata": {
    "id": "sLx5fyLY4ziz"
   },
   "source": [
    "\n",
    "## Suma de los elementos de un array\n"
   ]
  },
  {
   "cell_type": "code",
   "execution_count": 21,
   "metadata": {
    "colab": {
     "base_uri": "https://localhost:8080/"
    },
    "id": "Lc4uBLRn1Pfz",
    "outputId": "7cc00ea9-c666-43f9-9c01-308d8107967a"
   },
   "outputs": [
    {
     "name": "stdout",
     "output_type": "stream",
     "text": [
      "[[10 38 13 39 14]\n",
      " [32 28 11 41 39]\n",
      " [21 47 40 30 37]]\n",
      "\n",
      "suma_all =  440\n",
      "Suma por filas =  [114 151 175]\n",
      "Suma por columnas =  [ 63 113  64 110  90]\n"
     ]
    }
   ],
   "source": [
    "arr = np.random.randint(10, 50, size=(3, 5))\n",
    "\n",
    "print(arr)\n",
    "\n",
    "# suma de todos los elementos\n",
    "\n",
    "suma_all = arr.sum()\n",
    "print(\"\\nsuma_all = \", suma_all)\n",
    "\n",
    "# Suma los elementos de una fila\n",
    "suma_por_fila = arr.sum(axis=1)\n",
    "print(\"Suma por filas = \", suma_por_fila)\n",
    "\n",
    "# Suma por columnas\n",
    "suma_por_col = arr.sum(axis=0)\n",
    "print(\"Suma por columnas = \", suma_por_col)"
   ]
  },
  {
   "cell_type": "markdown",
   "metadata": {
    "id": "8wCtJ_gN54mc"
   },
   "source": [
    "\n",
    "### Valor medio de los elementos de un array\n"
   ]
  },
  {
   "cell_type": "code",
   "execution_count": 22,
   "metadata": {
    "colab": {
     "base_uri": "https://localhost:8080/"
    },
    "id": "hhdyh4-s6ADd",
    "outputId": "9d3451df-8099-4bfd-a484-f86540d57e19"
   },
   "outputs": [
    {
     "name": "stdout",
     "output_type": "stream",
     "text": [
      "[[41 17 12 14 26]\n",
      " [13 30 21 30 21]\n",
      " [16 38 40 42 33]]\n",
      "\n",
      "media_all =  26.266666666666666\n",
      "Media por filas =  [22.  23.  33.8]\n",
      "Media por columnas =  [23.33 28.33 24.33 28.67 26.67]\n"
     ]
    }
   ],
   "source": [
    "np.set_printoptions(precision=2)\n",
    "\n",
    "arr = np.random.randint(10, 50, size=(3, 5))\n",
    "\n",
    "\n",
    "print(arr)\n",
    "\n",
    "# media de todos los elementos\n",
    "\n",
    "media_all = arr.mean()\n",
    "print(\"\\nmedia_all = \", media_all)\n",
    "\n",
    "# media los elementos de una fila\n",
    "media_por_fila = arr.mean(axis=1)\n",
    "print(\"Media por filas = \", media_por_fila)\n",
    "\n",
    "# Media por columnas\n",
    "media_por_col = arr.mean(axis=0)\n",
    "print(\"Media por columnas = \", media_por_col)"
   ]
  },
  {
   "cell_type": "markdown",
   "metadata": {
    "id": "Z1EF3ImL6pPz"
   },
   "source": [
    "\n",
    "## Indice del valor mayor o del menor (argmax, argmin)\n",
    "\n",
    "Imaginemos que tenemos un array que representa:\n",
    "* filas: Un ensayo de un experimento\n",
    "* Columna:  La probabilidad de ocurrencia de un suceso\n",
    "\n",
    "Deseamos saber cual es, en cada ensayo, el suceso con mayor o con menor probabilidad.\n"
   ]
  },
  {
   "cell_type": "code",
   "execution_count": 23,
   "metadata": {
    "colab": {
     "base_uri": "https://localhost:8080/"
    },
    "id": "AohV33kQ6tO5",
    "outputId": "047b6451-0dda-4b4c-f21b-bcb3952e49cc"
   },
   "outputs": [
    {
     "name": "stdout",
     "output_type": "stream",
     "text": [
      "  S1   S2    S3\n",
      "[[0.2  0.3  0.5 ]\n",
      " [0.6  0.1  0.3 ]\n",
      " [0.8  0.15 0.05]\n",
      " [0.15 0.45 0.4 ]]\n",
      "-----------------------------------------------------------------------\n",
      "Probabilidad minima\n",
      "['S1', 'S2', 'S3', 'S1']\n",
      "-----------------------------------------------------------------------\n",
      "Probabilidad maxima\n",
      "['S3', 'S1', 'S1', 'S2']\n"
     ]
    }
   ],
   "source": [
    "X = np.array([[0.2, 0.3,  0.5],\n",
    "     [0.6, 0.1, 0.3],\n",
    "     [0.8, 0.15, 0.05],\n",
    "     [0.15, 0.45, 0.4]])\n",
    "\n",
    "max_prob = np.argmax(X, axis=1)\n",
    "min_prob = np.argmin(X, axis=1)\n",
    "\n",
    "my_dict = {\n",
    "    0: 'S1',\n",
    "    1: 'S2',\n",
    "    2: 'S3'\n",
    "}\n",
    "\n",
    "max_prob_cat = [my_dict[k] for k in max_prob]\n",
    "min_prob_cat = [my_dict[k] for k in min_prob] # Comprehension list\n",
    "\n",
    "print(\"  S1   S2    S3\")\n",
    "print(X)\n",
    "print(\"-----------------------------------------------------------------------\")\n",
    "print(\"Probabilidad minima\")\n",
    "print(min_prob_cat)\n",
    "print(\"-----------------------------------------------------------------------\")\n",
    "print(\"Probabilidad maxima\")\n",
    "print(max_prob_cat)"
   ]
  },
  {
   "cell_type": "markdown",
   "metadata": {
    "id": "ro0YCaQr88F0"
   },
   "source": [
    "\n",
    "## Distancia Euclidiana entre dos puntos\n"
   ]
  },
  {
   "cell_type": "code",
   "execution_count": 24,
   "metadata": {
    "colab": {
     "base_uri": "https://localhost:8080/"
    },
    "id": "1R23AAOa9CfF",
    "outputId": "c89bf9d4-a50f-4685-c92b-7848764954c5"
   },
   "outputs": [
    {
     "name": "stdout",
     "output_type": "stream",
     "text": [
      "distancia eucl =  8.660254037844387\n",
      "distancia eucl =  8.660254037844387\n"
     ]
    }
   ],
   "source": [
    "\n",
    "def dist_euclidea(x1,x2):\n",
    "    return np.sqrt(np.sum((x1-x2)**2))\n",
    "\n",
    "def dist_euclidea_v2(x1, x2):\n",
    "    return np.linalg.norm(x1-x2)\n",
    "\n",
    "x1 = np.array([2,3,4])\n",
    "x2 = np.array([7,8,9])\n",
    "\n",
    "\n",
    "print(\"distancia eucl = \", dist_euclidea(x1,x2))\n",
    "print(\"distancia eucl = \", dist_euclidea_v2(x1,x2))\n"
   ]
  },
  {
   "cell_type": "markdown",
   "metadata": {
    "id": "5xm30swA-Czk"
   },
   "source": [
    "\n",
    "## Distancia Euclidiana todos los elementos de un array y un punto\n"
   ]
  },
  {
   "cell_type": "code",
   "execution_count": 25,
   "metadata": {
    "colab": {
     "base_uri": "https://localhost:8080/"
    },
    "id": "wP4WTGZk-KwT",
    "outputId": "dd0e41ca-4ac1-4f80-b0c8-0596f25cb927"
   },
   "outputs": [
    {
     "name": "stdout",
     "output_type": "stream",
     "text": [
      "distancia eucl =  [8.66 8.66 8.66]\n",
      "distancia eucl =  [8.66 8.66 8.66]\n"
     ]
    }
   ],
   "source": [
    "\n",
    "def dist_euclidea_arr(arr,x2):\n",
    "    \"\"\"\n",
    "        arr.shape = (n_datos, n_dim)\n",
    "        x2.shape = (n_dim,)\n",
    "    \"\"\"\n",
    "    dista = []\n",
    "    for i in range(arr.shape[0]):\n",
    "        dista.append(np.sqrt(np.sum((arr[i]-x2)**2)))\n",
    "    return np.array(dista)\n",
    "\n",
    "def dist_euclidea_arr_v2(arr, x2):\n",
    "    dista = []\n",
    "    for i in range(arr.shape[0]):\n",
    "        dista.append(np.linalg.norm(arr[i]-x2))\n",
    "    \n",
    "    return np.array(dista)\n",
    "    \n",
    "\n",
    "arr= np.array([[2,3,4], [2,3,4], [2,3,4]])\n",
    "x2 = np.array([7,8,9])\n",
    "\n",
    "\n",
    "print(\"distancia eucl = \", dist_euclidea_arr(arr,x2))\n",
    "print(\"distancia eucl = \", dist_euclidea_arr_v2(arr,x2))"
   ]
  },
  {
   "cell_type": "code",
   "execution_count": 26,
   "metadata": {
    "id": "E5RfHsFSjh7U"
   },
   "outputs": [],
   "source": [
    "def func():\n",
    "    return 2, 3, 5, \"perro\"\n",
    "\n",
    "a, b, c, d  = func()"
   ]
  },
  {
   "cell_type": "markdown",
   "metadata": {
    "id": "H0l8c0NfABq0"
   },
   "source": [
    "\n",
    "# Matplotlib: Para data visualization\n"
   ]
  },
  {
   "cell_type": "code",
   "execution_count": 28,
   "metadata": {},
   "outputs": [
    {
     "name": "stdout",
     "output_type": "stream",
     "text": [
      "Defaulting to user installation because normal site-packages is not writeable\n",
      "Collecting matplotlib\n",
      "  Downloading matplotlib-3.9.2-cp310-cp310-manylinux_2_17_x86_64.manylinux2014_x86_64.whl (8.3 MB)\n",
      "\u001b[2K     \u001b[90m━━━━━━━━━━━━━━━━━━━━━━━━━━━━━━━━━━━━━━━━\u001b[0m \u001b[32m8.3/8.3 MB\u001b[0m \u001b[31m19.0 MB/s\u001b[0m eta \u001b[36m0:00:00\u001b[0m00:01\u001b[0m00:01\u001b[0m\n",
      "\u001b[?25hRequirement already satisfied: pillow>=8 in /usr/lib/python3/dist-packages (from matplotlib) (9.0.1)\n",
      "Collecting kiwisolver>=1.3.1\n",
      "  Downloading kiwisolver-1.4.5-cp310-cp310-manylinux_2_12_x86_64.manylinux2010_x86_64.whl (1.6 MB)\n",
      "\u001b[2K     \u001b[90m━━━━━━━━━━━━━━━━━━━━━━━━━━━━━━━━━━━━━━━━\u001b[0m \u001b[32m1.6/1.6 MB\u001b[0m \u001b[31m31.4 MB/s\u001b[0m eta \u001b[36m0:00:00\u001b[0ma \u001b[36m0:00:01\u001b[0m\n",
      "\u001b[?25hCollecting fonttools>=4.22.0\n",
      "  Downloading fonttools-4.53.1-cp310-cp310-manylinux_2_17_x86_64.manylinux2014_x86_64.whl (4.6 MB)\n",
      "\u001b[2K     \u001b[90m━━━━━━━━━━━━━━━━━━━━━━━━━━━━━━━━━━━━━━━━\u001b[0m \u001b[32m4.6/4.6 MB\u001b[0m \u001b[31m25.6 MB/s\u001b[0m eta \u001b[36m0:00:00\u001b[0m00:01\u001b[0m00:01\u001b[0m\n",
      "\u001b[?25hRequirement already satisfied: numpy>=1.23 in /home/matiye/.local/lib/python3.10/site-packages (from matplotlib) (2.0.1)\n",
      "Requirement already satisfied: pyparsing>=2.3.1 in /usr/lib/python3/dist-packages (from matplotlib) (2.4.7)\n",
      "Collecting contourpy>=1.0.1\n",
      "  Downloading contourpy-1.2.1-cp310-cp310-manylinux_2_17_x86_64.manylinux2014_x86_64.whl (305 kB)\n",
      "\u001b[2K     \u001b[90m━━━━━━━━━━━━━━━━━━━━━━━━━━━━━━━━━━━━━━\u001b[0m \u001b[32m305.2/305.2 KB\u001b[0m \u001b[31m36.1 MB/s\u001b[0m eta \u001b[36m0:00:00\u001b[0m\n",
      "\u001b[?25hCollecting cycler>=0.10\n",
      "  Downloading cycler-0.12.1-py3-none-any.whl (8.3 kB)\n",
      "Requirement already satisfied: packaging>=20.0 in /home/matiye/.local/lib/python3.10/site-packages (from matplotlib) (24.1)\n",
      "Requirement already satisfied: python-dateutil>=2.7 in /home/matiye/.local/lib/python3.10/site-packages (from matplotlib) (2.9.0.post0)\n",
      "Requirement already satisfied: six>=1.5 in /usr/lib/python3/dist-packages (from python-dateutil>=2.7->matplotlib) (1.16.0)\n",
      "Installing collected packages: kiwisolver, fonttools, cycler, contourpy, matplotlib\n",
      "Successfully installed contourpy-1.2.1 cycler-0.12.1 fonttools-4.53.1 kiwisolver-1.4.5 matplotlib-3.9.2\n",
      "Note: you may need to restart the kernel to use updated packages.\n"
     ]
    }
   ],
   "source": [
    "pip install matplotlib"
   ]
  },
  {
   "cell_type": "code",
   "execution_count": 29,
   "metadata": {
    "colab": {
     "base_uri": "https://localhost:8080/",
     "height": 545
    },
    "id": "5YuHQTQ9ANjM",
    "outputId": "06112453-e73b-46e6-b850-6c68641d3c49"
   },
   "outputs": [
    {
     "data": {
      "image/png": "[encoded data removed]",
      "text/plain": [
       "<Figure size 640x480 with 1 Axes>"
      ]
     },
     "metadata": {},
     "output_type": "display_data"
    },
    {
     "data": {
      "image/png": "[encoded data removed]",
      "text/plain": [
       "<Figure size 640x480 with 1 Axes>"
      ]
     },
     "metadata": {},
     "output_type": "display_data"
    }
   ],
   "source": [
    "import numpy as np\n",
    "import matplotlib.pyplot as plt\n",
    "\n",
    "\n",
    "X = np.linspace(0,10,50)\n",
    "\n",
    "Y = np.array([x**2 + 2*x for x in X])\n",
    "\n",
    "\n",
    "plt.figure()\n",
    "plt.plot(X, Y)\n",
    "plt.title(\"Grafico unido \")\n",
    "plt.show()\n",
    "\n",
    "plt.figure()\n",
    "plt.plot(X, Y, '.k')\n",
    "plt.title\n",
    "plt.title(\"Grafico con puntitos\")\n",
    "plt.grid()\n",
    "\n"
   ]
  },
  {
   "cell_type": "code",
   "execution_count": 30,
   "metadata": {
    "colab": {
     "base_uri": "https://localhost:8080/",
     "height": 531
    },
    "id": "qBJE81IjE4IW",
    "outputId": "78486224-f38f-4fbc-c167-b665ded3e7be"
   },
   "outputs": [
    {
     "data": {
      "text/plain": [
       "<matplotlib.colorbar.Colorbar at 0x7038ec5429e0>"
      ]
     },
     "execution_count": 30,
     "metadata": {},
     "output_type": "execute_result"
    },
    {
     "data": {
      "image/png": "[encoded data removed]",
      "text/plain": [
       "<Figure size 640x480 with 1 Axes>"
      ]
     },
     "metadata": {},
     "output_type": "display_data"
    },
    {
     "data": {
      "image/png": "[encoded data removed]",
      "text/plain": [
       "<Figure size 640x480 with 2 Axes>"
      ]
     },
     "metadata": {},
     "output_type": "display_data"
    }
   ],
   "source": [
    "X = np.random.randint(0,50,20)\n",
    "Y = np.random.randint(30,70,20)\n",
    "\n",
    "plt.scatter(X,Y, marker=\"s\", s=500)\n",
    "\n",
    "\n",
    "\n",
    "plt.figure()\n",
    "plt.scatter(X,Y, marker=\"s\", s=100, c=Y, cmap=\"RdPu\")\n",
    "plt.colorbar()\n"
   ]
  }
 ],
 "metadata": {
  "colab": {
   "authorship_tag": "ABX9TyOg5ejsW0k03rgLPiNvYI+/",
   "include_colab_link": true,
   "name": "Inteligencia_Artificial_Intro_Librerias.ipynb",
   "provenance": []
  },
  "kernelspec": {
   "display_name": "Python 3 (ipykernel)",
   "language": "python",
   "name": "python3"
  },
  "language_info": {
   "codemirror_mode": {
    "name": "ipython",
    "version": 3
   },
   "file_extension": ".py",
   "mimetype": "text/x-python",
   "name": "python",
   "nbconvert_exporter": "python",
   "pygments_lexer": "ipython3",
   "version": "3.10.12"
  }
 },
 "nbformat": 4,
 "nbformat_minor": 1
}
