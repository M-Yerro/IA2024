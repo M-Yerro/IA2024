{
 "cells": [
  {
   "cell_type": "markdown",
   "metadata": {
    "id": "Qnynj9uAXTBk"
   },
   "source": [
    "# Python Crash Course\n",
    "\n",
    "Este minicurso tiene como objetivo darle el empujoncito inicial que necesita para arrancar su camino en la Inteligencia Artificial.<br>\n",
    "\n",
    "**Pre-requisitos:** suponemos que usted tiene conocimientos de programación estructurada y POO.\n",
    "\n",
    "## ¿ Qué es Python?\n",
    "\n",
    "* Python es un lenguaje de programación de alto nivel.\n",
    "* Es multiparadigma (programación imperativa y POO)\n",
    "* Es multiplataforma\n",
    "* Es interpretado\n",
    "* Tiene tipado dinámico \n",
    "* Es fuertemente tipado\n",
    "\n",
    "## Sintaxis\n",
    "\n",
    "* Fue diseñado para ser leído con facilidad. \n",
    "* Utiliza palabras en inglés donde otros lenguajes usan símbolos.\n",
    "* No utiliza llaves { } como los lenguajes basados en C.\n",
    "* No necesita punto y coma ; para indicar fin de sentencia.\n",
    "* Trabaja con indentación obligatoria (se debe ser cuidadoso con los espacios y los tabs)\n",
    "\n",
    "\n",
    "## Tipos de datos \n",
    "\n",
    "* Numericos\n",
    "    * Enteros (int)\n",
    "    * Flotantes (float)\n",
    "    * Complejos (complex)\n",
    "* Booleanos (bool)\n",
    "* Strings\n",
    "* Listas (list)\n",
    "* Tuplas (tuple)\n",
    "* Conjuntos (set)\n",
    "* Diccionarios (dict)\n",
    "* None\n",
    "\n",
    "\n",
    "## Tipos de datos Numéricos\n",
    "\n",
    "### Enteros\n"
   ]
  },
  {
   "cell_type": "code",
   "execution_count": 3,
   "metadata": {
    "colab": {
     "base_uri": "https://localhost:8080/"
    },
    "id": "op0y7oFSXMHw",
    "outputId": "59f5d017-733f-4392-a5d9-e25282e552ac"
   },
   "outputs": [
    {
     "name": "stdout",
     "output_type": "stream",
     "text": [
      "myInt1 = 5\n",
      "myInt2 = 18\n",
      "type(myInt1) = <class 'int'>\n",
      "type(myInt2) = <class 'int'>\n"
     ]
    }
   ],
   "source": [
    "# Definimos algunas variables enteras\n",
    "myInt1 = 5\n",
    "myInt2 = 18\n",
    "\n",
    "print(f\"myInt1 = {myInt1}\")\n",
    "print(f\"myInt2 = {myInt2}\")\n",
    "\n",
    "print(f\"type(myInt1) = {type(myInt1)}\")\n",
    "print(f\"type(myInt2) = {type(myInt2)}\")\n",
    "\n"
   ]
  },
  {
   "cell_type": "markdown",
   "metadata": {
    "id": "lnLmliFUZiVs"
   },
   "source": [
    "\n",
    "### Flotantes\n"
   ]
  },
  {
   "cell_type": "code",
   "execution_count": 4,
   "metadata": {
    "colab": {
     "base_uri": "https://localhost:8080/"
    },
    "id": "ybMA2cjrZlHz",
    "outputId": "0c5cf638-0b83-4cf1-90c6-2dc426734c34"
   },
   "outputs": [
    {
     "name": "stdout",
     "output_type": "stream",
     "text": [
      "myFloat1 = 15.3\n",
      "myFloat2 = 18.0\n",
      "type(myFloat1) = <class 'float'>\n",
      "type(myFloat1) = <class 'float'>\n"
     ]
    }
   ],
   "source": [
    "myFloat1 = 15.3\n",
    "myFloat2 = 18.0\n",
    "\n",
    "print(f\"myFloat1 = {myFloat1}\")\n",
    "print(f\"myFloat2 = {myFloat2}\")\n",
    "\n",
    "print(f\"type(myFloat1) = {type(myFloat1)}\")\n",
    "print(f\"type(myFloat1) = {type(myFloat1)}\")"
   ]
  },
  {
   "cell_type": "markdown",
   "metadata": {
    "id": "ihEQm9VRZ7wK"
   },
   "source": [
    "\n",
    "### Complejos\n"
   ]
  },
  {
   "cell_type": "code",
   "execution_count": 7,
   "metadata": {
    "colab": {
     "base_uri": "https://localhost:8080/"
    },
    "id": "ZrdffHEjaCFo",
    "outputId": "1db85881-233e-42cb-f9cf-f781803082f1"
   },
   "outputs": [
    {
     "name": "stdout",
     "output_type": "stream",
     "text": [
      "myComplex1 = (15+3j)\n",
      "type(myComplex1) = <class 'complex'>\n",
      "\n",
      "parte real = 15.0\n",
      "Parte imaginaria = 3.0\n",
      "Conjugado = (15-3j)\n"
     ]
    }
   ],
   "source": [
    "myComplex1 = 15 + 3j\n",
    "\n",
    "print(f\"myComplex1 = {myComplex1}\")\n",
    "print(f\"type(myComplex1) = {type(myComplex1)}\")\n",
    "\n",
    "print(f\"\\nparte real = {myComplex1.real}\")\n",
    "print(f\"Parte imaginaria = {myComplex1.imag}\")\n",
    "\n",
    "print(f\"Conjugado = {myComplex1.conjugate()}\")  ## Un numero tiene un metodo asociado?? --> No es \"tan numero\"\n"
   ]
  },
  {
   "cell_type": "markdown",
   "metadata": {
    "id": "pXVvBWIlaykn"
   },
   "source": [
    "\n",
    "## Operaciones básicas\n",
    "\n",
    "### Suma\n"
   ]
  },
  {
   "cell_type": "code",
   "execution_count": 8,
   "metadata": {
    "id": "LbX46TU2a2Kj"
   },
   "outputs": [
    {
     "name": "stdout",
     "output_type": "stream",
     "text": [
      "15 + 5 = 20\n",
      "15 + 15.0 = 30.0\n",
      "15.0 + 5.5 = 20.5\n"
     ]
    }
   ],
   "source": [
    "# Suma\n",
    "\n",
    "a = 15\n",
    "b = 5\n",
    "c = 15.0\n",
    "d = 5.5\n",
    "\n",
    "print(f\"{a} + {b} = {a+b}\")  # Entero mas entero\n",
    "print(f\"{a} + {c} = {a+c}\")  # Entero mas flotante\n",
    "print(f\"{c} + {d} = {c+d}\")  # Flotante mas flotante\n"
   ]
  },
  {
   "cell_type": "markdown",
   "metadata": {
    "id": "7wJ5Z0RdM-qG"
   },
   "source": [
    "\n",
    "### Producto\n"
   ]
  },
  {
   "cell_type": "code",
   "execution_count": 9,
   "metadata": {
    "id": "54uCx9B-bddv"
   },
   "outputs": [
    {
     "name": "stdout",
     "output_type": "stream",
     "text": [
      "15 * 5 = 75\n",
      "15 * 15.0 = 225.0\n",
      "15.0 * 5.5 = 82.5\n"
     ]
    }
   ],
   "source": [
    "# producto\n",
    "a = 15\n",
    "b = 5\n",
    "c = 15.0\n",
    "d = 5.5\n",
    "\n",
    "print(f\"{a} * {b} = {a*b}\")  \n",
    "print(f\"{a} * {c} = {a*c}\")  \n",
    "print(f\"{c} * {d} = {c*d}\")  "
   ]
  },
  {
   "cell_type": "markdown",
   "metadata": {
    "id": "_SIqMQl6NCPD"
   },
   "source": [
    "\n",
    "### División\n"
   ]
  },
  {
   "cell_type": "code",
   "execution_count": 10,
   "metadata": {
    "colab": {
     "base_uri": "https://localhost:8080/"
    },
    "id": "aLCFqpFTbpRG",
    "outputId": "947f55fa-b857-4361-eeb8-09961f51bb4d"
   },
   "outputs": [
    {
     "name": "stdout",
     "output_type": "stream",
     "text": [
      "15 / 5 = 3.0\n",
      "15 // 5 = 3\n",
      "15.0 / 5.5 = 2.727272727272727\n",
      "15.0 / 5.5 = 2.73\n"
     ]
    }
   ],
   "source": [
    "# División\n",
    "a = 15\n",
    "b = 5\n",
    "c = 15.0\n",
    "d = 5.5\n",
    "\n",
    "# La división de enteros da flotante\n",
    "print(f\"{a} / {b} = {a/b}\")  \n",
    "\n",
    "# Doble barra genera la división entera\n",
    "print(f\"{a} // {b} = {a//b}\") \n",
    "\n",
    "# Para los flotantes usar la división comun\n",
    "print(f\"{c} / {d} = {c/d}\")\n",
    "\n",
    "# Para redondear\n",
    "print(f\"{c} / {d} = {round(c/d, 2)}\")\n"
   ]
  },
  {
   "cell_type": "markdown",
   "metadata": {
    "id": "Ya5_qID8NzB5"
   },
   "source": [
    "\n",
    "### Módulo\n"
   ]
  },
  {
   "cell_type": "code",
   "execution_count": 11,
   "metadata": {
    "id": "rDdlAb-0N2IK"
   },
   "outputs": [
    {
     "name": "stdout",
     "output_type": "stream",
     "text": [
      "El resto de 15 / 4 es = 3\n"
     ]
    }
   ],
   "source": [
    "a = 15\n",
    "b = 4\n",
    "\n",
    "print(f\"El resto de {a} / {b} es = {a%b}\")"
   ]
  },
  {
   "cell_type": "markdown",
   "metadata": {
    "id": "opot0agCNIAN"
   },
   "source": [
    "\n",
    "### Potencia\n"
   ]
  },
  {
   "cell_type": "code",
   "execution_count": 12,
   "metadata": {
    "id": "ROHuVcgVNKw5"
   },
   "outputs": [
    {
     "name": "stdout",
     "output_type": "stream",
     "text": [
      "4 ^ 5 = 1024\n",
      "4 ^ 3 = 64\n",
      "5 ^ -1 = 0.2\n"
     ]
    }
   ],
   "source": [
    "a = 4\n",
    "b = 5\n",
    "\n",
    "print(f\"{a} ^ {b} = {a**b}\")\n",
    "print(f\"{a} ^ {3} = {a**3}\")\n",
    "print(f\"{b} ^ {-1} = {b**-1}\")"
   ]
  },
  {
   "cell_type": "markdown",
   "metadata": {
    "id": "jZeztaTzOZOq"
   },
   "source": [
    "\n",
    "## Tipo de datos: Booleanos\n",
    "\n",
    "\n",
    "``` \n",
    "a = True \n",
    "b = False\n",
    "\n",
    "c = 8 > 5  # True\n",
    "```\n",
    "\n",
    "\n",
    "### Operaciones con booleanos\n"
   ]
  },
  {
   "cell_type": "code",
   "execution_count": 16,
   "metadata": {
    "colab": {
     "base_uri": "https://localhost:8080/"
    },
    "id": "4G82hFWKOsz_",
    "outputId": "377022b5-4af3-4af5-f637-1c78e5352e5f"
   },
   "outputs": [
    {
     "name": "stdout",
     "output_type": "stream",
     "text": [
      "a= True  type(a)  <class 'bool'>\n"
     ]
    }
   ],
   "source": [
    "a = True\n",
    "b = False\n",
    "\n",
    "print(\"a=\",a,\" type(a) \", type(a))"
   ]
  },
  {
   "cell_type": "markdown",
   "metadata": {
    "id": "K9avRu8gPu5f"
   },
   "source": [
    "\n",
    "### Not\n"
   ]
  },
  {
   "cell_type": "code",
   "execution_count": 17,
   "metadata": {
    "id": "5pjbtcqdPw8z"
   },
   "outputs": [
    {
     "name": "stdout",
     "output_type": "stream",
     "text": [
      "not False = True\n",
      "not True = False\n"
     ]
    }
   ],
   "source": [
    "print(f\"not {False} = {not False}\")\n",
    "print(f\"not {True} = {not True}\")"
   ]
  },
  {
   "cell_type": "markdown",
   "metadata": {
    "id": "_q_deNwEPodn"
   },
   "source": [
    "\n",
    "### And"
   ]
  },
  {
   "cell_type": "code",
   "execution_count": 18,
   "metadata": {
    "id": "aIDzocmlO9yc"
   },
   "outputs": [
    {
     "name": "stdout",
     "output_type": "stream",
     "text": [
      " True and True = True\n",
      " True and False = False\n",
      " False and True = False\n",
      " False and False = False\n"
     ]
    }
   ],
   "source": [
    "# And\n",
    "print(f\" {True} and {True} = {True and True}\")\n",
    "print(f\" {True} and {False} = {True and False}\")\n",
    "print(f\" {False} and {True} = {False and True}\")\n",
    "print(f\" {False} and {False} = {False and False}\")"
   ]
  },
  {
   "cell_type": "markdown",
   "metadata": {
    "id": "MAh-RoJsPrxs"
   },
   "source": [
    "\n",
    "### Or\n"
   ]
  },
  {
   "cell_type": "code",
   "execution_count": 19,
   "metadata": {
    "id": "0kGRhpUGRY9s"
   },
   "outputs": [
    {
     "name": "stdout",
     "output_type": "stream",
     "text": [
      " True or True = True\n",
      " True or False = True\n",
      " False or True = True\n",
      " False or False = False\n"
     ]
    }
   ],
   "source": [
    "# Or\n",
    "print(f\" {True} or {True} = {True or True}\")\n",
    "print(f\" {True} or {False} = {True or False}\")\n",
    "print(f\" {False} or {True} = {False or True}\")\n",
    "print(f\" {False} or {False} = {False or False}\")"
   ]
  },
  {
   "cell_type": "markdown",
   "metadata": {
    "id": "8Kax1QjYRr0_"
   },
   "source": [
    "\n",
    "### XOR\n"
   ]
  },
  {
   "cell_type": "code",
   "execution_count": 20,
   "metadata": {
    "id": "f3907LEJRvuP"
   },
   "outputs": [
    {
     "name": "stdout",
     "output_type": "stream",
     "text": [
      " True xor True = False\n",
      " True xor False = True\n",
      " False xor True = True\n",
      " False xor False = False\n"
     ]
    }
   ],
   "source": [
    "# Xor\n",
    "print(f\" {True} xor {True} = {True ^ True}\")\n",
    "print(f\" {True} xor {False} = {True ^ False}\")\n",
    "print(f\" {False} xor {True} = {False ^ True}\")\n",
    "print(f\" {False} xor {False} = {False ^ False}\")"
   ]
  },
  {
   "cell_type": "markdown",
   "metadata": {
    "id": "1oYd8lxL-O-q"
   },
   "source": [
    "\n",
    "## Strings\n",
    "\n",
    "Los strings son inmutables.\n"
   ]
  },
  {
   "cell_type": "code",
   "execution_count": 21,
   "metadata": {
    "id": "Y-A5dFZX-ShQ"
   },
   "outputs": [
    {
     "name": "stdout",
     "output_type": "stream",
     "text": [
      "Esto es un string\n",
      "Esto tambien es un string\n",
      "Esto es un string con una comilla simple ' dentro\n",
      "Esto es un string con una comilla doble \" dentro\n",
      "Esto es un string con una comilla doble \" \n",
      "Esto es un string con una comilla doble ' \n"
     ]
    }
   ],
   "source": [
    "str1 = \"Esto es un string\"\n",
    "str2 = 'Esto tambien es un string'\n",
    "\n",
    "str3 = \"Esto es un string con una comilla simple ' dentro\"\n",
    "str4 = 'Esto es un string con una comilla doble \" dentro'\n",
    "\n",
    "str5 = \"Esto es un string con una comilla doble \\\" \"\n",
    "str6 = 'Esto es un string con una comilla doble \\' '\n",
    "\n",
    "print(str1)\n",
    "print(str2)\n",
    "print(str3)\n",
    "print(str4)\n",
    "print(str5)\n",
    "print(str6)"
   ]
  },
  {
   "cell_type": "markdown",
   "metadata": {
    "id": "3-v3_9O9Aoco"
   },
   "source": [
    "\n",
    "### **Strings:** Métodos lower(), upper() y capitalize()\n"
   ]
  },
  {
   "cell_type": "code",
   "execution_count": 22,
   "metadata": {
    "id": "QYSLuBYVAADX"
   },
   "outputs": [
    {
     "name": "stdout",
     "output_type": "stream",
     "text": [
      "EL PERRO ES MUY LINDO\n",
      "el perro es muy lindo\n",
      "El perro es muy lindo\n",
      "-----------------------------------------------------------------------\n",
      "este string no tiene mayusculas\n",
      "ESTE STRING NO TIENE MAYUSCULAS\n",
      "Este string no tiene mayusculas\n",
      "-----------------------------------------------------------------------\n"
     ]
    }
   ],
   "source": [
    "# Algunos metodos para strings\n",
    "\n",
    "str1 = \"EL PERRO ES MUY LINDO\"\n",
    "str2 = \"este string no tiene mayusculas\"\n",
    "\n",
    "\n",
    "print(str1)\n",
    "# Todo a minusculas\n",
    "print(str1.lower())\n",
    "print(str1.capitalize())\n",
    "print(\"-----------------------------------------------------------------------\")\n",
    "print(str2)\n",
    "print(str2.upper())\n",
    "print(str2.capitalize())\n",
    "print(\"-----------------------------------------------------------------------\")\n",
    "# \n"
   ]
  },
  {
   "cell_type": "markdown",
   "metadata": {
    "id": "FHjt_KAtA5QC"
   },
   "source": [
    "\n",
    "### **Strings:** Métodos strip() y split()\n"
   ]
  },
  {
   "cell_type": "code",
   "execution_count": 24,
   "metadata": {
    "id": "lKKSWD4kBZ4R"
   },
   "outputs": [
    {
     "name": "stdout",
     "output_type": "stream",
     "text": [
      "Vamos a mostrar la cadena str1= '                 tengo muchos espacios en blanco                 ' para ver que molestos son los espacios en blanco\n",
      "Vamos a mostrar la cadena str2= 'tengo muchos espacios en blanco' para ver qué linda queda sin espacios de mas\n"
     ]
    }
   ],
   "source": [
    "# Strip\n",
    "str1 = \"                 tengo muchos espacios en blanco                 \"\n",
    "\n",
    "print(f\"Vamos a mostrar la cadena str1= '{str1}' para ver que molestos son los espacios en blanco\")\n",
    "\n",
    "str2 = str1.strip()\n",
    "print(f\"Vamos a mostrar la cadena str2= '{str2}' para ver qué linda queda sin espacios de mas\")"
   ]
  },
  {
   "cell_type": "code",
   "execution_count": 26,
   "metadata": {
    "id": "MkzydShYCFYw"
   },
   "outputs": [
    {
     "name": "stdout",
     "output_type": "stream",
     "text": [
      "str1 =  Habia una vez una cabra llamada Martita\n",
      "list1 =  ['Habia', 'una', 'vez', 'una', 'cabra', 'llamada', 'Martita']\n",
      "------------------------------------------------------------------------\n",
      "str2 =  Esto;es;una;frase;separada;por;punto;y;coma\n",
      "list2 =  ['Esto', 'es', 'una', 'frase', 'separada', 'por', 'punto', 'y', 'coma']\n",
      "------------------------------------------------------------------------\n"
     ]
    }
   ],
   "source": [
    "str1 = \"Habia una vez una cabra llamada Martita\"\n",
    "str2 = \"Esto;es;una;frase;separada;por;punto;y;coma\"\n",
    "\n",
    "list1 = str1.split()\n",
    "list2 = str2.split(sep=\";\")\n",
    "\n",
    "print(\"str1 = \", str1)\n",
    "print(\"list1 = \", list1)\n",
    "print(\"------------------------------------------------------------------------\")\n",
    "print(\"str2 = \", str2)\n",
    "print(\"list2 = \", list2)\n",
    "print(\"------------------------------------------------------------------------\")"
   ]
  },
  {
   "cell_type": "markdown",
   "metadata": {
    "id": "kEMo3PznSEHP"
   },
   "source": [
    "\n",
    "## Listas, tuplas y sets\n",
    "\n",
    "* Lista:  Colección de cosas separadas por comas, encerradas entre corchetes. \n",
    "    * Mutable\n",
    "    * Con orden\n",
    "* Tupla: Colección de cosas separadas por comas, encerradas entre paréntesis. \n",
    "    * Inmutable\n",
    "    * Con orden\n",
    "* Set: Colección de cosas *únicas* separadas por comas, encerradas entre llaves.\n",
    "    * No admite repetidos \n",
    "    * No indexable (not subscriptable)\n"
   ]
  },
  {
   "cell_type": "code",
   "execution_count": 27,
   "metadata": {
    "colab": {
     "base_uri": "https://localhost:8080/"
    },
    "id": "x_0WUCZoqpmm",
    "outputId": "99b9e3cf-78a0-4cc8-cc72-cb8d2dcd6894"
   },
   "outputs": [
    {
     "name": "stdout",
     "output_type": "stream",
     "text": [
      "lista  [1, 2, 3]\n",
      "tupla (1, 2, 3)\n",
      "set  {1, 2, 3}\n"
     ]
    }
   ],
   "source": [
    "lista_x = [1,2,3]\n",
    "tupla_x = (1,2,3)\n",
    "set_x = {1,2,3,1,1}\n",
    "\n",
    "print(\"lista \",lista_x)\n",
    "print(\"tupla\", tupla_x)\n",
    "print(\"set \", set_x)\n"
   ]
  },
  {
   "cell_type": "markdown",
   "metadata": {
    "id": "ArCHI465T1A-"
   },
   "source": [
    "\n",
    "### Listas\n"
   ]
  },
  {
   "cell_type": "code",
   "execution_count": 28,
   "metadata": {
    "colab": {
     "base_uri": "https://localhost:8080/"
    },
    "id": "PNejPpvQSHeS",
    "outputId": "b9462717-fcea-4bac-a3c6-acdc87350f5e"
   },
   "outputs": [
    {
     "name": "stdout",
     "output_type": "stream",
     "text": [
      "[0, 1, 2, 3, 4, 5, 6, 7, 8, 9]\n",
      "[1, 2, 3, [1, 2, 5], 'perro', 'banana']\n",
      "----------------------------------------------------------------------\n",
      "<class 'list'>\n",
      "<class 'list'>\n",
      "----------------------------------------------------------------------\n",
      "Longitud de la lista =  10\n",
      "Longitud de lista2 =  6\n"
     ]
    }
   ],
   "source": [
    "lista = [0, 1, 2, 3, 4, 5, 6, 7, 8, 9]\n",
    "lista2 = [1, 2, 3, [1, 2, 5], \"perro\", \"banana\"]\n",
    "\n",
    "print(lista)\n",
    "print(lista2)\n",
    "\n",
    "print(\"----------------------------------------------------------------------\")\n",
    "print(type(lista))\n",
    "print(type(lista2))\n",
    "\n",
    "print(\"----------------------------------------------------------------------\")\n",
    "print(\"Longitud de la lista = \", len(lista))\n",
    "print(\"Longitud de lista2 = \", len(lista2))\n",
    "\n"
   ]
  },
  {
   "cell_type": "markdown",
   "metadata": {
    "id": "O_LGBLKJUZjk"
   },
   "source": [
    "\n",
    "## Accediendo a los elementos de una lista\n"
   ]
  },
  {
   "cell_type": "code",
   "execution_count": 29,
   "metadata": {
    "colab": {
     "base_uri": "https://localhost:8080/",
     "height": 599
    },
    "id": "Q16RcoM_T5vr",
    "outputId": "68262f2c-a7e0-4a06-ed98-8f85c08b2726"
   },
   "outputs": [
    {
     "name": "stdout",
     "output_type": "stream",
     "text": [
      "----------------------------------------------------------------------\n",
      "Primer elemento de [0, 1, 2, 3, 4, 5, 6, 7, 8, 9] =   0\n",
      "----------------------------------------------------------------------\n",
      "Cuarto elemento de [1, 2, 3, [1, 2, 5], 'perro', 'banana'] =   [1, 2, 5]\n",
      "----------------------------------------------------------------------\n",
      "Ultimo elemento de [0, 1, 2, 3, 4, 5, 6, 7, 8, 9] = 9\n",
      "----------------------------------------------------------------------\n",
      "3 primeros elementos\n",
      "[0, 1, 2]\n",
      "----------------------------------------------------------------------\n",
      "Ultimos 3 elementos\n",
      "[7, 8, 9]\n",
      "----------------------------------------------------------------------\n",
      "Elementos desde la posicion 3 a la 6\n",
      "[2, 3, 4, 5]\n",
      "----------------------------------------------------------------------\n",
      "Elementos en posiciones pares\n",
      "[0, 2, 4, 6, 8]\n",
      "----------------------------------------------------------------------\n",
      "Elementos en posiciones impares\n",
      "[1, 3, 5, 7, 9]\n",
      "----------------------------------------------------------------------\n",
      "Elementos en orden inverso\n",
      "[9, 8, 7, 6, 5, 4, 3, 2, 1, 0]\n",
      "----------------------------------------------------------------------\n"
     ]
    }
   ],
   "source": [
    "# Acceder al primer elemento de la lista\n",
    "print(\"----------------------------------------------------------------------\")\n",
    "print(f\"Primer elemento de {lista} =   {lista[0]}\")\n",
    "\n",
    "\n",
    "# Acceder al 4 elemento de la lista2\n",
    "print(\"----------------------------------------------------------------------\")\n",
    "print(f\"Cuarto elemento de {lista2} =   {lista2[3]}\")\n",
    "\n",
    "# Acceder al ultimo elemento de la lista\n",
    "print(\"----------------------------------------------------------------------\")\n",
    "print(f\"Ultimo elemento de {lista} = {lista[-1]}\")\n",
    "\n",
    "# Mostrar los 3 primeros elementos\n",
    "print(\"----------------------------------------------------------------------\")\n",
    "print(\"3 primeros elementos\")\n",
    "print(lista[:3])\n",
    "\n",
    "# Mostrar los 3 ultimos elementos\n",
    "print(\"----------------------------------------------------------------------\")\n",
    "print(\"Ultimos 3 elementos\")\n",
    "print(lista[-3:])\n",
    "\n",
    "# Mostrar los elementos desde la posicion 3 a la  6\n",
    "print(\"----------------------------------------------------------------------\")\n",
    "print(\"Elementos desde la posicion 3 a la 6\")\n",
    "print(lista[2:6])\n",
    "\n",
    "# Mostrar los elementos de las posiciones pares\n",
    "print(\"----------------------------------------------------------------------\")\n",
    "print(\"Elementos en posiciones pares\")\n",
    "print(lista[::2])\n",
    "\n",
    "# Mostrar los elementos de las posiciones impares\n",
    "print(\"----------------------------------------------------------------------\")\n",
    "print(\"Elementos en posiciones impares\")\n",
    "print(lista[1::2])\n",
    "\n",
    "\n",
    "# Mostrar los elementos en orden inverso\n",
    "print(\"----------------------------------------------------------------------\")\n",
    "print(\"Elementos en orden inverso\")\n",
    "print(lista[::-1])\n",
    "\n",
    "print(\"----------------------------------------------------------------------\")\n"
   ]
  },
  {
   "cell_type": "markdown",
   "metadata": {
    "id": "cJ3R78SwXGqn"
   },
   "source": [
    "\n",
    "### Modificando una lista\n"
   ]
  },
  {
   "cell_type": "code",
   "execution_count": 30,
   "metadata": {
    "colab": {
     "base_uri": "https://localhost:8080/"
    },
    "id": "nmeFLv93XJoh",
    "outputId": "3d3a026f-c6ed-445b-ccf4-fcbf0f3b4666"
   },
   "outputs": [
    {
     "name": "stdout",
     "output_type": "stream",
     "text": [
      "-----------------------------------------------------------------------\n",
      "Original\n",
      "[0, 1, 2, 3, 4, 5, 6, 7, 8, 9, 10, 11, 12, 13, 14, 15, 16, 17, 18, 19]\n",
      "-----------------------------------------------------------------------\n",
      "Modificada\n",
      "[0, 1, 2, 3, 4, 5, 6, 7, 8, 9, 10, 11, 12, 13, 14, 15, 16, 17, 18, 100]\n"
     ]
    }
   ],
   "source": [
    "lista = list(range(20))\n",
    "\n",
    "print(\"-----------------------------------------------------------------------\")\n",
    "print(\"Original\")\n",
    "print(lista)\n",
    "\n",
    "# Modificar el ultimo valor por 100\n",
    "print(\"-----------------------------------------------------------------------\")\n",
    "lista[-1] = 100\n",
    "print(\"Modificada\")\n",
    "print(lista)"
   ]
  },
  {
   "cell_type": "code",
   "execution_count": 31,
   "metadata": {
    "colab": {
     "base_uri": "https://localhost:8080/"
    },
    "id": "kH-wo5bEXsPJ",
    "outputId": "d843fc61-eb3c-464c-eccb-e8acc0b77999"
   },
   "outputs": [
    {
     "name": "stdout",
     "output_type": "stream",
     "text": [
      "[0, 1, 2, 99, 99, 99, 99, 7, 8, 9, 10, 11, 12, 13, 14, 15, 16, 17, 18, 100]\n",
      "Longitud  20\n",
      "-----------------------------------------------------------------------\n",
      "[0, 1, 2, 99, 99, 99, 99, 1, 2, 11, 12, 13, 14, 15, 16, 17, 18, 100]\n",
      "Longitud  18\n"
     ]
    }
   ],
   "source": [
    "# Modificar la lista desde el indice 3 hasta el 6, por todos 99\n",
    "\n",
    "lista[3:7] = [99, 99, 99, 99]\n",
    "print(lista)\n",
    "print(\"Longitud \",len(lista))\n",
    "\n",
    "# CUIDADO!! PUEDEN ELIMINAR SIN QUERER ELEMENTOS DE LA LISTA\n",
    "print(\"-----------------------------------------------------------------------\")\n",
    "lista[7:11] = [1, 2]\n",
    "print(lista)\n",
    "print(\"Longitud \",len(lista))"
   ]
  },
  {
   "cell_type": "markdown",
   "metadata": {
    "id": "JNW9DspmCvQg"
   },
   "source": [
    "\n",
    "## Agregando y quitando valores de una lista. Métodos pop() y append()\n"
   ]
  },
  {
   "cell_type": "code",
   "execution_count": 32,
   "metadata": {
    "id": "cJWtDSJnC4vY"
   },
   "outputs": [
    {
     "name": "stdout",
     "output_type": "stream",
     "text": [
      "['Jake', 'Finn', 'Grumosa', 'Marceline', 'Tronquitos']\n"
     ]
    }
   ],
   "source": [
    "# Creamos una lista vacia\n",
    "lista = []\n",
    "\n",
    "# Agregamos un nombre por vez\n",
    "lista.append(\"Jake\")\n",
    "lista.append(\"Finn\")\n",
    "lista.append(\"Grumosa\")\n",
    "lista.append(\"Marceline\")\n",
    "lista.append(\"Tronquitos\")\n",
    "\n",
    "print(lista)"
   ]
  },
  {
   "cell_type": "code",
   "execution_count": 33,
   "metadata": {
    "id": "7RjbGRZTDZZJ"
   },
   "outputs": [
    {
     "name": "stdout",
     "output_type": "stream",
     "text": [
      "eliminado =  Tronquitos\n",
      "['Jake', 'Finn', 'Grumosa', 'Marceline']\n"
     ]
    }
   ],
   "source": [
    "# Quitamos elementos de la lista\n",
    "\n",
    "eliminado = lista.pop()\n",
    "\n",
    "print(\"eliminado = \", eliminado)\n",
    "print(lista)"
   ]
  },
  {
   "cell_type": "code",
   "execution_count": 34,
   "metadata": {
    "id": "n1mslDyODtn6"
   },
   "outputs": [
    {
     "name": "stdout",
     "output_type": "stream",
     "text": [
      "eliminado =  Jake\n",
      "['Finn', 'Grumosa', 'Marceline']\n"
     ]
    }
   ],
   "source": [
    "# Con pop tambien podemos sacar elementos de cualquier posicion\n",
    "\n",
    "eliminado = lista.pop(0)\n",
    "\n",
    "print(\"eliminado = \", eliminado)\n",
    "print(lista)"
   ]
  },
  {
   "cell_type": "markdown",
   "metadata": {
    "id": "oK3wtlmNEITo"
   },
   "source": [
    "\n",
    "## Combinando dos listas. Método extend\n"
   ]
  },
  {
   "cell_type": "code",
   "execution_count": 35,
   "metadata": {
    "id": "ONIZmSL3EQTB"
   },
   "outputs": [
    {
     "name": "stdout",
     "output_type": "stream",
     "text": [
      "lista1 =  [0, 1, 2, 3, 4, 5]\n",
      "lista2 =  [15, 16, 17, 18, 19]\n",
      "-----------------------------------------------------------------------\n",
      "lista1 extendida =  [0, 1, 2, 3, 4, 5, 15, 16, 17, 18, 19]\n"
     ]
    }
   ],
   "source": [
    "lista1 = list(range(6))\n",
    "lista2 = list(range(15,20))\n",
    "\n",
    "print(\"lista1 = \", lista1)\n",
    "print(\"lista2 = \", lista2)\n",
    "print(\"-----------------------------------------------------------------------\")\n",
    "lista1.extend(lista2)\n",
    "print(\"lista1 extendida = \", lista1)"
   ]
  },
  {
   "cell_type": "markdown",
   "metadata": {
    "id": "splBLYL0Ye2x"
   },
   "source": [
    "\n",
    "## Cuidado con las referencias\n"
   ]
  },
  {
   "cell_type": "code",
   "execution_count": 36,
   "metadata": {
    "id": "SdI6F60DYjuf"
   },
   "outputs": [
    {
     "name": "stdout",
     "output_type": "stream",
     "text": [
      "-----------------------------------------------------------------------\n",
      "Antes \n",
      "lista =  [0, 1, 2, 3, 4]\n",
      "lista2 =  [0, 1, 2, 3, 4]\n",
      "-----------------------------------------------------------------------\n",
      "Despues \n",
      "lista =  [1144, 1, 2, 3, 4]\n",
      "lista2 =  [1144, 1, 2, 3, 4]\n",
      "-----------------------------------------------------------------------\n"
     ]
    }
   ],
   "source": [
    "lista = list(range(5))\n",
    "\n",
    "lista2 = lista\n",
    "\n",
    "\n",
    "print(\"-----------------------------------------------------------------------\")\n",
    "print(\"Antes \")\n",
    "print(\"lista = \", lista)\n",
    "print(\"lista2 = \", lista2)\n",
    "print(\"-----------------------------------------------------------------------\")\n",
    "\n",
    "\n",
    "lista[0] = 1144\n",
    "\n",
    "\n",
    "print(\"Despues \")\n",
    "print(\"lista = \", lista)\n",
    "print(\"lista2 = \", lista2)\n",
    "print(\"-----------------------------------------------------------------------\")"
   ]
  },
  {
   "cell_type": "code",
   "execution_count": 37,
   "metadata": {
    "colab": {
     "base_uri": "https://localhost:8080/"
    },
    "id": "NWRrDZApdznQ",
    "outputId": "7c1d8a5a-ba62-48fd-bffc-4eeaa1e6449f"
   },
   "outputs": [
    {
     "name": "stdout",
     "output_type": "stream",
     "text": [
      "-----------------------------------------------------------------------\n",
      "Antes\n",
      "Lista =  [0, 1, 2, 3, 4]\n",
      "Lista2 =  [0, 1, 2, 3, 4]\n",
      "Lista3 =  [0, 1, 2, 3, 4]\n",
      "Lista4 =  [0, 1, 2, 3, 4]\n",
      "-----------------------------------------------------------------------\n",
      "Despues\n",
      "Lista =  [55, 1, 2, 3, 4]\n",
      "Lista2 =  [55, 1, 2, 3, 4]\n",
      "Lista3 =  [0, 1, 2, 3, 4]\n",
      "Lista4 =  [0, 1, 2, 3, 4]\n"
     ]
    }
   ],
   "source": [
    "lista = list(range(5))\n",
    "\n",
    "lista2 = lista          # Referencia\n",
    "lista3 = lista.copy()   # Copia\n",
    "lista4 = lista[:]\n",
    "\n",
    "print(\"-----------------------------------------------------------------------\")\n",
    "print(\"Antes\")\n",
    "print(\"Lista = \", lista)\n",
    "print(\"Lista2 = \", lista2)\n",
    "print(\"Lista3 = \", lista3)\n",
    "print(\"Lista4 = \", lista4)\n",
    "\n",
    "# Modificamos lista\n",
    "lista[0] = 55\n",
    "\n",
    "\n",
    "print(\"-----------------------------------------------------------------------\")\n",
    "print(\"Despues\")\n",
    "print(\"Lista = \", lista)\n",
    "print(\"Lista2 = \", lista2)\n",
    "print(\"Lista3 = \", lista3)\n",
    "print(\"Lista4 = \", lista4)\n"
   ]
  },
  {
   "cell_type": "markdown",
   "metadata": {
    "id": "ViyrnmBYfHZT"
   },
   "source": [
    "\n",
    "### Pero....\n",
    "\n",
    "No es una copia tan profunda como nos gustaría\n"
   ]
  },
  {
   "cell_type": "code",
   "execution_count": 38,
   "metadata": {
    "id": "xP7NChoqe0g9"
   },
   "outputs": [
    {
     "name": "stdout",
     "output_type": "stream",
     "text": [
      "-----------------------------------------------------------------------\n",
      "Antes\n",
      "Lista =  [[1, 2, 3], [4, 5, 6]]\n",
      "Lista2 =  [[1, 2, 3], [4, 5, 6]]\n",
      "Lista3 =  [[1, 2, 3], [4, 5, 6]]\n",
      "Lista4 =  [[1, 2, 3], [4, 5, 6]]\n",
      "-----------------------------------------------------------------------\n",
      "Despues\n",
      "Lista =  [[55, 2, 3], [88, 5, 6]]\n",
      "Lista2 =  [[55, 2, 3], [88, 5, 6]]\n",
      "Lista3 =  [[55, 2, 3], [88, 5, 6]]\n",
      "Lista4 =  [[55, 2, 3], [88, 5, 6]]\n",
      "-----------------------------------------------------------------------\n",
      "Despues\n",
      "Lista =  [[100, 100, 100], [88, 5, 6]]\n",
      "Lista2 =  [[100, 100, 100], [88, 5, 6]]\n",
      "Lista3 =  [[55, 2, 3], [88, 5, 6]]\n",
      "Lista4 =  [[55, 2, 3], [88, 5, 6]]\n"
     ]
    }
   ],
   "source": [
    "lista = [[1,2,3],[4,5,6]]\n",
    "\n",
    "lista2 = lista          # Referencia\n",
    "lista3 = lista.copy()   # Copia\n",
    "lista4 = lista[:]\n",
    "\n",
    "\n",
    "print(\"-----------------------------------------------------------------------\")\n",
    "print(\"Antes\")\n",
    "print(\"Lista = \", lista)\n",
    "print(\"Lista2 = \", lista2)\n",
    "print(\"Lista3 = \", lista3)\n",
    "print(\"Lista4 = \", lista4)\n",
    "\n",
    "\n",
    "# Dentro de la lista principal, hay referencias a listas\n",
    "lista[0][0] = 55\n",
    "\n",
    "lista[1][0] = 88\n",
    "\n",
    "print(\"-----------------------------------------------------------------------\")\n",
    "print(\"Despues\")\n",
    "print(\"Lista = \", lista)\n",
    "print(\"Lista2 = \", lista2)\n",
    "print(\"Lista3 = \", lista3)\n",
    "print(\"Lista4 = \", lista4)\n",
    "\n",
    "# Pero, si por alguna razon modificamos alguna de las listas internas\n",
    "#  generando una nueva inner lista ... el comportamiento no es tan obvio\n",
    "lista[0]= [100,100,100]\n",
    "\n",
    "print(\"-----------------------------------------------------------------------\")\n",
    "print(\"Despues\")\n",
    "print(\"Lista = \", lista)\n",
    "print(\"Lista2 = \", lista2)\n",
    "print(\"Lista3 = \", lista3)\n",
    "print(\"Lista4 = \", lista4)"
   ]
  },
  {
   "cell_type": "code",
   "execution_count": 39,
   "metadata": {
    "id": "9MD4SjcAgU_a"
   },
   "outputs": [
    {
     "name": "stdout",
     "output_type": "stream",
     "text": [
      "-----------------------------------------------------------------------\n",
      "Antes\n",
      "Lista =  [[1, 2, 3], [4, 5, 6]]\n",
      "Lista2 =  [[1, 2, 3], [4, 5, 6]]\n",
      "Lista3 =  [[1, 2, 3], [4, 5, 6]]\n",
      "Lista4 =  [[1, 2, 3], [4, 5, 6]]\n",
      "-----------------------------------------------------------------------\n",
      "Despues\n",
      "Lista =  [[55, 2, 3], [88, 5, 6]]\n",
      "Lista2 =  [[55, 2, 3], [88, 5, 6]]\n",
      "Lista3 =  [[1, 2, 3], [4, 5, 6]]\n",
      "Lista4 =  [[55, 2, 3], [88, 5, 6]]\n",
      "-----------------------------------------------------------------------\n",
      "Despues\n",
      "Lista =  [[100, 100, 100], [88, 5, 6]]\n",
      "Lista2 =  [[100, 100, 100], [88, 5, 6]]\n",
      "Lista3 =  [[1, 2, 3], [4, 5, 6]]\n",
      "Lista4 =  [[55, 2, 3], [88, 5, 6]]\n"
     ]
    }
   ],
   "source": [
    "import copy\n",
    "\n",
    "lista = [[1,2,3],[4,5,6]]\n",
    "\n",
    "lista2 = lista          # Referencia\n",
    "lista3 = copy.deepcopy(lista)   # Copia\n",
    "lista4 = lista[:]\n",
    "\n",
    "\n",
    "print(\"-----------------------------------------------------------------------\")\n",
    "print(\"Antes\")\n",
    "print(\"Lista = \", lista)\n",
    "print(\"Lista2 = \", lista2)\n",
    "print(\"Lista3 = \", lista3)\n",
    "print(\"Lista4 = \", lista4)\n",
    "\n",
    "\n",
    "# Dentro de la lista principal, hay referencias a listas\n",
    "lista[0][0] = 55\n",
    "\n",
    "lista[1][0] = 88\n",
    "\n",
    "print(\"-----------------------------------------------------------------------\")\n",
    "print(\"Despues\")\n",
    "print(\"Lista = \", lista)\n",
    "print(\"Lista2 = \", lista2)\n",
    "print(\"Lista3 = \", lista3)\n",
    "print(\"Lista4 = \", lista4)\n",
    "\n",
    "# Pero, si por alguna razon modificamos alguna de las listas internas\n",
    "#  generando una nueva inner lista ... el comportamiento no es tan obvio\n",
    "lista[0]= [100,100,100]\n",
    "\n",
    "print(\"-----------------------------------------------------------------------\")\n",
    "print(\"Despues\")\n",
    "print(\"Lista = \", lista)\n",
    "print(\"Lista2 = \", lista2)\n",
    "print(\"Lista3 = \", lista3)\n",
    "print(\"Lista4 = \", lista4)"
   ]
  },
  {
   "cell_type": "markdown",
   "metadata": {
    "id": "rwHV4dqjguKd"
   },
   "source": [
    "\n",
    "## Tuplas\n",
    "\n",
    "### Son bastante similares a las listas, pero inmutables.\n"
   ]
  },
  {
   "cell_type": "code",
   "execution_count": 40,
   "metadata": {
    "colab": {
     "base_uri": "https://localhost:8080/"
    },
    "id": "cS7RDhBKg0Sy",
    "outputId": "2044911c-603c-4832-d8d0-9cdf444b7135"
   },
   "outputs": [
    {
     "name": "stdout",
     "output_type": "stream",
     "text": [
      "(1, 2, 3, 4, 5, 6)\n",
      "1\n",
      "6\n",
      "(1, 2, 3)\n"
     ]
    }
   ],
   "source": [
    "my_tuple = (1, 2, 3, 4, 5, 6)\n",
    "\n",
    "print(my_tuple)\n",
    "\n",
    "print(my_tuple[0])\n",
    "print(my_tuple[-1])\n",
    "print(my_tuple[:3])"
   ]
  },
  {
   "cell_type": "code",
   "execution_count": 41,
   "metadata": {
    "colab": {
     "base_uri": "https://localhost:8080/",
     "height": 169
    },
    "id": "fqz53BRNhFuK",
    "outputId": "b8bd83ce-7c25-4d03-eb40-41b92178dd9d"
   },
   "outputs": [
    {
     "ename": "TypeError",
     "evalue": "'tuple' object does not support item assignment",
     "output_type": "error",
     "traceback": [
      "\u001b[0;31m---------------------------------------------------------------------------\u001b[0m",
      "\u001b[0;31mTypeError\u001b[0m                                 Traceback (most recent call last)",
      "Cell \u001b[0;32mIn[41], line 1\u001b[0m\n\u001b[0;32m----> 1\u001b[0m \u001b[43mmy_tuple\u001b[49m\u001b[43m[\u001b[49m\u001b[38;5;241;43m1\u001b[39;49m\u001b[43m]\u001b[49m \u001b[38;5;241m=\u001b[39m \u001b[38;5;241m88\u001b[39m\n",
      "\u001b[0;31mTypeError\u001b[0m: 'tuple' object does not support item assignment"
     ]
    }
   ],
   "source": [
    "my_tuple[1] = 88"
   ]
  },
  {
   "cell_type": "markdown",
   "metadata": {
    "id": "f_uax47YhKAV"
   },
   "source": [
    "\n",
    "## Ej. de uso de las tuplas : Intercambiar los valores entre las variables a y b\n"
   ]
  },
  {
   "cell_type": "code",
   "execution_count": 42,
   "metadata": {
    "colab": {
     "base_uri": "https://localhost:8080/"
    },
    "id": "7rtMY6HVhSCc",
    "outputId": "a1935ee7-ff84-429c-f522-a19bcb994bd0"
   },
   "outputs": [
    {
     "name": "stdout",
     "output_type": "stream",
     "text": [
      "Antes   a = 15   b = 21\n",
      "Despues   a = 21   b = 15\n"
     ]
    }
   ],
   "source": [
    "a = 15\n",
    "b = 21\n",
    "\n",
    "print(f\"Antes   a = {a}   b = {b}\")\n",
    "\n",
    "a, b = b, a\n",
    "\n",
    "print(f\"Despues   a = {a}   b = {b}\")"
   ]
  },
  {
   "cell_type": "markdown",
   "metadata": {
    "id": "eH0VhER0hmQP"
   },
   "source": [
    "\n",
    "## Sets\n"
   ]
  },
  {
   "cell_type": "code",
   "execution_count": 43,
   "metadata": {
    "id": "GI0wsVGIhoj_"
   },
   "outputs": [
    {
     "name": "stdout",
     "output_type": "stream",
     "text": [
      "{1, 2, 3, 4}\n"
     ]
    }
   ],
   "source": [
    "my_set = {1,2,3,3,3,4,1,1,1}\n",
    "\n",
    "print(my_set)\n",
    "\n"
   ]
  },
  {
   "cell_type": "code",
   "execution_count": 44,
   "metadata": {
    "id": "LtX_A_m9hsIs"
   },
   "outputs": [
    {
     "ename": "TypeError",
     "evalue": "'set' object is not subscriptable",
     "output_type": "error",
     "traceback": [
      "\u001b[0;31m---------------------------------------------------------------------------\u001b[0m",
      "\u001b[0;31mTypeError\u001b[0m                                 Traceback (most recent call last)",
      "Cell \u001b[0;32mIn[44], line 3\u001b[0m\n\u001b[1;32m      1\u001b[0m \u001b[38;5;66;03m# Los sets no se pueden indexar\u001b[39;00m\n\u001b[0;32m----> 3\u001b[0m \u001b[43mmy_set\u001b[49m\u001b[43m[\u001b[49m\u001b[38;5;241;43m0\u001b[39;49m\u001b[43m]\u001b[49m\n",
      "\u001b[0;31mTypeError\u001b[0m: 'set' object is not subscriptable"
     ]
    }
   ],
   "source": [
    "# Los sets no se pueden indexar\n",
    "\n",
    "my_set[0]"
   ]
  },
  {
   "cell_type": "markdown",
   "metadata": {
    "id": "KXIzgcK3h2ri"
   },
   "source": [
    "\n",
    "## Diccionarios\n",
    "\n",
    "* Conjunto de pares clave, valor\n",
    "* Separados por coma\n",
    "* Clave separada por : del valor --> clave: valor\n",
    "* Encerrados entre llaves\n"
   ]
  },
  {
   "cell_type": "code",
   "execution_count": 56,
   "metadata": {
    "colab": {
     "base_uri": "https://localhost:8080/"
    },
    "id": "D2DYw-LliFiv",
    "outputId": "76f64c1a-a5ed-452d-9814-c67a98961090"
   },
   "outputs": [
    {
     "name": "stdout",
     "output_type": "stream",
     "text": [
      "{'nombre': 'Naruto', 'apellido': 'Uzumaki', 'edad': 16}\n"
     ]
    }
   ],
   "source": [
    "my_dict = {\n",
    "    \"nombre\":\"Naruto\",\n",
    "    \"apellido\":\"Uzumaki\",\n",
    "    \"edad\": 16\n",
    "}\n",
    "\n",
    "print(my_dict)"
   ]
  },
  {
   "cell_type": "markdown",
   "metadata": {
    "id": "sVbws0oqiWQw"
   },
   "source": [
    "\n",
    "### Mostrar las claves\n"
   ]
  },
  {
   "cell_type": "code",
   "execution_count": 57,
   "metadata": {
    "colab": {
     "base_uri": "https://localhost:8080/"
    },
    "id": "CKJmoWgUiZcL",
    "outputId": "db16e691-ac7a-4dfb-ee2d-f39b069c0320"
   },
   "outputs": [
    {
     "data": {
      "text/plain": [
       "dict_keys(['nombre', 'apellido', 'edad'])"
      ]
     },
     "execution_count": 57,
     "metadata": {},
     "output_type": "execute_result"
    }
   ],
   "source": [
    "my_dict.keys()"
   ]
  },
  {
   "cell_type": "markdown",
   "metadata": {
    "id": "u-T-7r_8ihUa"
   },
   "source": [
    "\n",
    "### Mostrar los valores\n"
   ]
  },
  {
   "cell_type": "code",
   "execution_count": 58,
   "metadata": {
    "colab": {
     "base_uri": "https://localhost:8080/"
    },
    "id": "sOGX_hrciko2",
    "outputId": "9a520da2-5c02-4df3-acab-60c5b4a49dfa"
   },
   "outputs": [
    {
     "data": {
      "text/plain": [
       "dict_values(['Naruto', 'Uzumaki', 16])"
      ]
     },
     "execution_count": 58,
     "metadata": {},
     "output_type": "execute_result"
    }
   ],
   "source": [
    "my_dict.values()"
   ]
  },
  {
   "cell_type": "markdown",
   "metadata": {
    "id": "fkqXcjVAinsT"
   },
   "source": [
    "\n",
    "### Mostar tuplas key, value\n"
   ]
  },
  {
   "cell_type": "code",
   "execution_count": 59,
   "metadata": {
    "colab": {
     "base_uri": "https://localhost:8080/"
    },
    "id": "Yt_QZfnwiwK7",
    "outputId": "2dfc18cc-fc32-4e2e-c485-2479e43b3fa1"
   },
   "outputs": [
    {
     "data": {
      "text/plain": [
       "dict_items([('nombre', 'Naruto'), ('apellido', 'Uzumaki'), ('edad', 16)])"
      ]
     },
     "execution_count": 59,
     "metadata": {},
     "output_type": "execute_result"
    }
   ],
   "source": [
    "my_dict.items()"
   ]
  },
  {
   "cell_type": "markdown",
   "metadata": {
    "id": "bxEzzioYizO_"
   },
   "source": [
    "\n",
    "### Acceder a un elemento por clave\n"
   ]
  },
  {
   "cell_type": "code",
   "execution_count": 60,
   "metadata": {
    "id": "4wSUvuSRi293"
   },
   "outputs": [
    {
     "data": {
      "text/plain": [
       "'Naruto'"
      ]
     },
     "execution_count": 60,
     "metadata": {},
     "output_type": "execute_result"
    }
   ],
   "source": [
    "my_dict[\"nombre\"]"
   ]
  },
  {
   "cell_type": "code",
   "execution_count": 61,
   "metadata": {
    "id": "Ri5Wqoq9i59v"
   },
   "outputs": [
    {
     "data": {
      "text/plain": [
       "16"
      ]
     },
     "execution_count": 61,
     "metadata": {},
     "output_type": "execute_result"
    }
   ],
   "source": [
    "my_dict[\"edad\"]"
   ]
  },
  {
   "cell_type": "markdown",
   "metadata": {
    "id": "T2rKi3w0jAcS"
   },
   "source": [
    "\n",
    "### Modificar el valor asociado a una clave"
   ]
  },
  {
   "cell_type": "code",
   "execution_count": 62,
   "metadata": {
    "id": "tilyBirLjNnn"
   },
   "outputs": [
    {
     "name": "stdout",
     "output_type": "stream",
     "text": [
      "{'nombre': 'Naruto', 'apellido': 'Uzumaki Hyuga', 'edad': 16}\n"
     ]
    }
   ],
   "source": [
    "my_dict[\"apellido\"] = \"Uzumaki Hyuga\"\n",
    "\n",
    "print(my_dict)"
   ]
  },
  {
   "cell_type": "markdown",
   "metadata": {
    "id": "HhtSIBTujS2d"
   },
   "source": [
    "\n",
    "### Agregar un nuevo par\n"
   ]
  },
  {
   "cell_type": "code",
   "execution_count": 63,
   "metadata": {
    "id": "ZFKK6mLDjfHJ"
   },
   "outputs": [
    {
     "name": "stdout",
     "output_type": "stream",
     "text": [
      "{'nombre': 'Naruto', 'apellido': 'Uzumaki Hyuga', 'edad': 16, 'aldea': 'Konoha'}\n"
     ]
    }
   ],
   "source": [
    "my_dict[\"aldea\"] = \"Konoha\"\n",
    "\n",
    "print(my_dict)"
   ]
  },
  {
   "cell_type": "markdown",
   "metadata": {
    "id": "h_BjAZc-juCT"
   },
   "source": [
    "\n",
    "## Eliminar una clave\n"
   ]
  },
  {
   "cell_type": "code",
   "execution_count": 64,
   "metadata": {
    "id": "HYfeBESpjxJ1"
   },
   "outputs": [
    {
     "name": "stdout",
     "output_type": "stream",
     "text": [
      "Naruto\n",
      "None\n",
      "{'apellido': 'Uzumaki Hyuga', 'edad': 16, 'aldea': 'Konoha'}\n"
     ]
    }
   ],
   "source": [
    "eliminado = my_dict.pop(\"nombre\", None)\n",
    "eliminado2 = my_dict.pop(\"amigo\", None)\n",
    "\n",
    "print(eliminado)\n",
    "print(eliminado2)\n",
    "\n",
    "print(my_dict)"
   ]
  },
  {
   "cell_type": "code",
   "execution_count": 65,
   "metadata": {
    "id": "t7IGipY3kHkt"
   },
   "outputs": [
    {
     "name": "stdout",
     "output_type": "stream",
     "text": [
      "{'apellido': 'Uzumaki Hyuga', 'aldea': 'Konoha'}\n"
     ]
    }
   ],
   "source": [
    "del my_dict[\"edad\"]\n",
    "\n",
    "print(my_dict)"
   ]
  },
  {
   "cell_type": "markdown",
   "metadata": {
    "id": "ruGcZTF2kQW9"
   },
   "source": [
    "\n",
    "# Control de Flujo\n",
    "\n",
    "* If, elif, else\n",
    "* While\n",
    "* For\n",
    "\n",
    "## 1. IF \n",
    "\n",
    "Dado que en python no se utilizan las llaves {}...como podemos saber que código forma parte del bloque del if? \n",
    "\n",
    "Todo el código que está en el mismo nivel de indentación, forma parte del mismo bloque:\n",
    "\n",
    "``` \n",
    "if condicion:\n",
    "    sentencia1\n",
    "    sentencia2\n",
    "    sentencia3\n",
    "\n",
    "sentencia4\n",
    "```\n",
    "\n",
    "Las sentencias 1, 2 y 3 forman parte del bloque del IF y sólo se ejecutarán si la condición se evalúa verdadera.\n",
    "\n",
    "La sentencia 4 se ejecuta siempre dado que está fuera del bloque del IF\n"
   ]
  },
  {
   "cell_type": "code",
   "execution_count": 66,
   "metadata": {
    "id": "0TR9LIRH46cn"
   },
   "outputs": [
    {
     "name": "stdout",
     "output_type": "stream",
     "text": [
      "Bloque 1 - parte 1\n",
      "Bloque 1 - parte 2\n",
      "Bloque externo- me ejecuto siempre\n"
     ]
    }
   ],
   "source": [
    "mostrar_info = 1\n",
    "\n",
    "if mostrar_info==1:\n",
    "    print(\"Bloque 1 - parte 1\")\n",
    "    print(\"Bloque 1 - parte 2\")\n",
    "print(\"Bloque externo- me ejecuto siempre\")"
   ]
  },
  {
   "cell_type": "code",
   "execution_count": 67,
   "metadata": {
    "id": "XS2ym2lp5OwP"
   },
   "outputs": [
    {
     "name": "stdout",
     "output_type": "stream",
     "text": [
      "Bloque 2 - parte 1\n",
      "Bloque 2 - parte 2\n",
      "Bloque externo- me ejecuto siempre\n"
     ]
    }
   ],
   "source": [
    "mostrar_bloque = 0\n",
    "\n",
    "if mostrar_bloque==1:\n",
    "    print(\"Bloque 1 - parte 1\")\n",
    "    print(\"Bloque 1 - parte 2\")\n",
    "else:\n",
    "    print(\"Bloque 2 - parte 1\")\n",
    "    print(\"Bloque 2 - parte 2\")\n",
    "print(\"Bloque externo- me ejecuto siempre\")\n"
   ]
  },
  {
   "cell_type": "code",
   "execution_count": 68,
   "metadata": {
    "id": "7nfpNxYa5zWx"
   },
   "outputs": [
    {
     "name": "stdout",
     "output_type": "stream",
     "text": [
      "Bloque 3 - Parte 1\n",
      "Bloque 3 - Parte 2\n",
      "Bloque 3 - Parte 3\n",
      "Fuera del bloque de if\n"
     ]
    }
   ],
   "source": [
    "opcion = 3\n",
    "\n",
    "if opcion == 1:\n",
    "    print(\"Bloque 1 - Parte 1\")\n",
    "    print(\"Bloque 1 - Parte 2\")\n",
    "    print(\"Bloque 1 - Parte 3\")\n",
    "\n",
    "elif opcion == 2:\n",
    "    print(\"Bloque 2 - Parte 1\")\n",
    "    print(\"Bloque 2 - Parte 2\")\n",
    "    print(\"Bloque 2 - Parte 3\")\n",
    "\n",
    "elif opcion == 3:\n",
    "    print(\"Bloque 3 - Parte 1\")\n",
    "    print(\"Bloque 3 - Parte 2\")\n",
    "    print(\"Bloque 3 - Parte 3\")\n",
    "else:\n",
    "    print(\"Bloque default - Parte 1\")\n",
    "    print(\"Bloque default - Parte 2\")\n",
    "    print(\"Bloque default - Parte 3\")\n",
    "\n",
    "print(\"Fuera del bloque de if\")"
   ]
  },
  {
   "cell_type": "code",
   "execution_count": 69,
   "metadata": {
    "id": "FKZKpjUD6Tmv"
   },
   "outputs": [
    {
     "name": "stdout",
     "output_type": "stream",
     "text": [
      "Dia lindo para ir al shopping\n"
     ]
    }
   ],
   "source": [
    "dia_lindo = False\n",
    "dinero = True\n",
    "\n",
    "if dia_lindo and dinero:\n",
    "    print(\"Dia para salir a pasear al camping\")\n",
    "    \n",
    "elif dia_lindo and not dinero:\n",
    "    print(\"Dia lindo para caminar\")\n",
    "elif not dia_lindo and dinero:\n",
    "    print(\"Dia lindo para ir al shopping\")\n",
    "else:\n",
    "    print(\"Dia especial para comer tortafritas\")\n"
   ]
  },
  {
   "cell_type": "markdown",
   "metadata": {
    "id": "p-8TpZZ-7JsA"
   },
   "source": [
    "\n",
    "## 2. While\n"
   ]
  },
  {
   "cell_type": "code",
   "execution_count": 70,
   "metadata": {
    "id": "WJnTxOp87VHH"
   },
   "outputs": [
    {
     "name": "stdout",
     "output_type": "stream",
     "text": [
      "0\n",
      "1\n",
      "2\n",
      "3\n",
      "4\n",
      "5\n",
      "6\n",
      "7\n",
      "8\n",
      "9\n"
     ]
    }
   ],
   "source": [
    "contador = 0\n",
    "\n",
    "while contador < 10:\n",
    "    print(contador)\n",
    "    contador +=1\n"
   ]
  },
  {
   "cell_type": "code",
   "execution_count": 71,
   "metadata": {
    "id": "mbopvYxz7ms3"
   },
   "outputs": [
    {
     "name": "stdout",
     "output_type": "stream",
     "text": [
      "estoy dentro del bucle 0\n",
      "estoy dentro del bucle 1\n",
      "estoy dentro del bucle 2\n",
      "estoy dentro del bucle 3\n",
      "estoy dentro del bucle 4\n",
      "estoy dentro del bucle 5\n",
      "estoy dentro del bucle 6\n",
      "estoy dentro del bucle 7\n",
      "estoy dentro del bucle 8\n",
      "estoy dentro del bucle 9\n",
      "Salgo del bucle\n",
      "Ya estoy fuera del bucle\n"
     ]
    }
   ],
   "source": [
    "contador = 0\n",
    "\n",
    "while contador < 10:\n",
    "    print(\"estoy dentro del bucle \" + str(contador))\n",
    "    contador += 1\n",
    "else:\n",
    "    print(\"Salgo del bucle\")\n",
    "\n",
    "print(\"Ya estoy fuera del bucle\")"
   ]
  },
  {
   "cell_type": "markdown",
   "metadata": {
    "id": "gKU_c75p8A5H"
   },
   "source": [
    "\n",
    "## 3. For\n",
    "\n",
    "Los ciclos for en Python están pensados para iterar sobre las colecciones.\n",
    "\n",
    "## Iterando sobre listas al estilo **C**\n"
   ]
  },
  {
   "cell_type": "code",
   "execution_count": 72,
   "metadata": {
    "colab": {
     "base_uri": "https://localhost:8080/"
    },
    "id": "YTdfFW4u8ZIJ",
    "outputId": "291d6285-540d-453f-b1e8-80e95a77ebc4"
   },
   "outputs": [
    {
     "name": "stdout",
     "output_type": "stream",
     "text": [
      "manzana\n",
      "pera\n",
      "naranja\n",
      "uva\n",
      "kiwi\n",
      "sandía\n"
     ]
    }
   ],
   "source": [
    "frutas = [\"manzana\", \"pera\", \"naranja\", \"uva\", \"kiwi\", \"sandía\"]\n",
    "\n",
    "# Podemos iterar al estilo de c (en forma medio forzada)\n",
    "\n",
    "n = len(frutas)  # Longitud de la lista\n",
    "\n",
    "for i in range(n):\n",
    "    print(frutas[i])\n",
    "\n"
   ]
  },
  {
   "cell_type": "code",
   "execution_count": 73,
   "metadata": {
    "id": "iraZQnSt83oH"
   },
   "outputs": [
    {
     "name": "stdout",
     "output_type": "stream",
     "text": [
      "0 manzana\n",
      "1 pera\n",
      "2 naranja\n",
      "3 uva\n",
      "4 kiwi\n",
      "5 sandía\n"
     ]
    }
   ],
   "source": [
    "\n",
    "for i in range(n):\n",
    "    print(i, frutas[i])"
   ]
  },
  {
   "cell_type": "markdown",
   "metadata": {
    "id": "moAG2FbC915r"
   },
   "source": [
    "\n",
    "## Iterando sobre listas al estilo **Python**\n"
   ]
  },
  {
   "cell_type": "code",
   "execution_count": 74,
   "metadata": {
    "colab": {
     "base_uri": "https://localhost:8080/"
    },
    "id": "Diptes6C88cu",
    "outputId": "a9f41c1b-a288-4b91-a017-77130da60f10"
   },
   "outputs": [
    {
     "name": "stdout",
     "output_type": "stream",
     "text": [
      "manzana\n",
      "pera\n",
      "naranja\n",
      "uva\n",
      "kiwi\n",
      "sandía\n"
     ]
    }
   ],
   "source": [
    "# Iteramos al estilo Python\n",
    "\n",
    "for x in frutas:\n",
    "    print(x)"
   ]
  },
  {
   "cell_type": "code",
   "execution_count": 75,
   "metadata": {
    "id": "m9BWkSsI9DjQ"
   },
   "outputs": [
    {
     "name": "stdout",
     "output_type": "stream",
     "text": [
      "0 manzana\n",
      "1 pera\n",
      "2 naranja\n",
      "3 uva\n",
      "4 kiwi\n",
      "5 sandía\n"
     ]
    }
   ],
   "source": [
    "# Si queremos mostrar el indice:\n",
    "\n",
    "for (idx, fruta) in enumerate(frutas):\n",
    "    print(idx, fruta)"
   ]
  },
  {
   "cell_type": "code",
   "execution_count": 76,
   "metadata": {
    "id": "e8RmqOxW9Oqn"
   },
   "outputs": [
    {
     "name": "stdout",
     "output_type": "stream",
     "text": [
      "<enumerate object at 0x7b6fe9453240>\n",
      "[(0, 'manzana'), (1, 'pera'), (2, 'naranja'), (3, 'uva'), (4, 'kiwi'), (5, 'sandía')]\n"
     ]
    }
   ],
   "source": [
    "# Que devuelve el enumerate??\n",
    "\n",
    "enum = enumerate(frutas)\n",
    "print(enum)\n",
    "\n",
    "print(list(enum))  # Si lo transformamos en lista, retorna una lista de tuplas"
   ]
  },
  {
   "cell_type": "markdown",
   "metadata": {
    "id": "AjrPnozx9Nyf"
   },
   "source": [
    "\n",
    "## Iterando sobre strings\n"
   ]
  },
  {
   "cell_type": "code",
   "execution_count": 78,
   "metadata": {
    "id": "KQjkPHbaE8zo"
   },
   "outputs": [
    {
     "name": "stdout",
     "output_type": "stream",
     "text": [
      "M\n",
      "u\n",
      "r\n",
      "c\n",
      "i\n",
      "é\n",
      "l\n",
      "a\n",
      "g\n",
      "o\n"
     ]
    }
   ],
   "source": [
    "string = \"Murciélago\"\n",
    "\n",
    "for letra in string:\n",
    "    print(letra)"
   ]
  },
  {
   "cell_type": "markdown",
   "metadata": {
    "id": "QEhRVuV5HcBZ"
   },
   "source": [
    "\n",
    "## Iterando sobre diccionarios\n"
   ]
  },
  {
   "cell_type": "code",
   "execution_count": 79,
   "metadata": {
    "id": "k2WFZCSNHiAT"
   },
   "outputs": [
    {
     "name": "stdout",
     "output_type": "stream",
     "text": [
      "nombre\n",
      "especie\n",
      "color_pelo\n",
      "------------------------------------------------------------------------\n",
      "nombre\n",
      "especie\n",
      "color_pelo\n"
     ]
    }
   ],
   "source": [
    "\n",
    "my_dict = {\"nombre\":\"Rem\", \"especie\":\"Semidemonio\", \"color_pelo\":\"azul\"}\n",
    "# Si iteramos directamente, iteramos sobre las claves\n",
    "for x in my_dict:\n",
    "    print(x)\n",
    "\n",
    "print(\"------------------------------------------------------------------------\")\n",
    "for x in my_dict.keys():\n",
    "    print(x)"
   ]
  },
  {
   "cell_type": "code",
   "execution_count": 80,
   "metadata": {
    "id": "5bzmQ5M0IqcQ"
   },
   "outputs": [
    {
     "name": "stdout",
     "output_type": "stream",
     "text": [
      "Rem\n",
      "Semidemonio\n",
      "azul\n"
     ]
    }
   ],
   "source": [
    "# Iterando sobre valores\n",
    "\n",
    "for valor in my_dict.values():\n",
    "    print(valor)"
   ]
  },
  {
   "cell_type": "code",
   "execution_count": 81,
   "metadata": {
    "colab": {
     "base_uri": "https://localhost:8080/"
    },
    "id": "hxndp8e2Iz3A",
    "outputId": "f24100b2-0e7e-48d4-dcbc-c1a7ecd19975"
   },
   "outputs": [
    {
     "name": "stdout",
     "output_type": "stream",
     "text": [
      "nombre Rem\n",
      "especie Semidemonio\n",
      "color_pelo azul\n"
     ]
    }
   ],
   "source": [
    "# Iterando sobre par clave valor\n",
    "\n",
    "for k, v in my_dict.items():\n",
    "    print(k, v)"
   ]
  },
  {
   "cell_type": "markdown",
   "metadata": {
    "id": "huKvc8JJJWKI"
   },
   "source": [
    "\n",
    "## Procesando un string (nivel básico)\n",
    "\n",
    "Dado un string, se quiere saber cuantas letras de cada especie hay.\n"
   ]
  },
  {
   "cell_type": "code",
   "execution_count": 82,
   "metadata": {
    "id": "htSmC8E-JXzR"
   },
   "outputs": [
    {
     "name": "stdout",
     "output_type": "stream",
     "text": [
      "e 6\n",
      "s 7\n",
      "t 3\n",
      "o 3\n",
      "u 2\n",
      "n 3\n",
      "a 9\n",
      "f 1\n",
      "r 6\n",
      "p 1\n",
      "c 3\n",
      "l 3\n",
      "i 1\n",
      "d 1\n",
      "-----------------------------------------------------------------------\n",
      "a 9\n",
      "c 3\n",
      "d 1\n",
      "e 6\n",
      "f 1\n",
      "i 1\n",
      "l 3\n",
      "n 3\n",
      "o 3\n",
      "p 1\n",
      "r 6\n",
      "s 7\n",
      "t 3\n",
      "u 2\n"
     ]
    }
   ],
   "source": [
    "\n",
    "\n",
    "frase = \"Esto es una frase para contar las ocurrencias de las letras\"\n",
    "frase2  = \"\".join(frase.lower().split())\n",
    "\n",
    "my_dict = dict()\n",
    "for letra in frase2:\n",
    "    if letra not in my_dict.keys():\n",
    "        my_dict[letra] = 1\n",
    "    else:\n",
    "        my_dict[letra] += 1\n",
    "\n",
    "\n",
    "for k, v in my_dict.items():\n",
    "    print(k, v)\n",
    "\n",
    "sorted_values  = sorted(my_dict.items())\n",
    "\n",
    "print(\"-----------------------------------------------------------------------\")\n",
    "for k, v in sorted_values:\n",
    "    print(k,v)\n",
    "\n",
    "\n"
   ]
  },
  {
   "cell_type": "markdown",
   "metadata": {
    "id": "2AHfrLOyPdb5"
   },
   "source": [
    "## Funciones\n",
    "\n",
    "La palabra reservada en Python para definir una función es `def` <br>\n",
    "\n",
    "## Nuestra primera función\n",
    "\n",
    "\n",
    "Vamos a crear una funcion que nos salude y nos diga que es una función muy guapa. Esta función no tendrá parámetros.\n",
    "\n",
    "```\n",
    "def miFuncion():\n",
    "    print(\"Hola, soy una función muy guapa!\")\n",
    "```\n"
   ]
  },
  {
   "cell_type": "code",
   "execution_count": 83,
   "metadata": {
    "id": "uhnPviXESOFC"
   },
   "outputs": [
    {
     "name": "stdout",
     "output_type": "stream",
     "text": [
      "Hola, soy una función muy guapa!\n",
      "Hola, soy una función muy guapa!\n"
     ]
    }
   ],
   "source": [
    "# Definimos la función\n",
    "def miFuncion():\n",
    "    print(\"Hola, soy una función muy guapa!\")\n",
    "\n",
    "# Invocamos la función\n",
    "\n",
    "miFuncion()\n",
    "miFuncion()\n",
    "\n",
    "\n"
   ]
  },
  {
   "cell_type": "markdown",
   "metadata": {
    "id": "Ii3dNOv0_NN2"
   },
   "source": [
    "\n",
    "### Las funciones pueden tener parámetros.\n",
    "```\n",
    "def mifuncion2(nombre):\n",
    "    print(f\"Hola {nombre}!! Soy una función muy guapa\")\n",
    "```\n"
   ]
  },
  {
   "cell_type": "code",
   "execution_count": 84,
   "metadata": {
    "id": "2XY9bA_o_Tpg"
   },
   "outputs": [],
   "source": [
    "# Definimos una funcion que tiene 1 parametro\n",
    "\n",
    "def mifuncion2(nombre):\n",
    "    print(f\"Hola {nombre}!! Soy una función muy guapa\")"
   ]
  },
  {
   "cell_type": "code",
   "execution_count": 86,
   "metadata": {
    "id": "0_rWeA_l_t4J"
   },
   "outputs": [
    {
     "name": "stdout",
     "output_type": "stream",
     "text": [
      "Hola Gaspar!! Soy una función muy guapa\n",
      "Hola Melchor!! Soy una función muy guapa\n",
      "Hola Baltasar!! Soy una función muy guapa\n"
     ]
    }
   ],
   "source": [
    "# ahora invocamos la funcion\n",
    "mifuncion2(\"Gaspar\")\n",
    "mifuncion2(\"Melchor\")\n",
    "mifuncion2(\"Baltasar\")"
   ]
  },
  {
   "cell_type": "markdown",
   "metadata": {
    "id": "k-l3N2EC_2un"
   },
   "source": [
    "\n",
    "### Cuidado!! si la función está esperando un parámetro y no se lo damos, se va a generar un error\n"
   ]
  },
  {
   "cell_type": "code",
   "execution_count": 87,
   "metadata": {
    "id": "mQgjvWt8_-5v"
   },
   "outputs": [
    {
     "ename": "TypeError",
     "evalue": "mifuncion2() missing 1 required positional argument: 'nombre'",
     "output_type": "error",
     "traceback": [
      "\u001b[0;31m---------------------------------------------------------------------------\u001b[0m",
      "\u001b[0;31mTypeError\u001b[0m                                 Traceback (most recent call last)",
      "Cell \u001b[0;32mIn[87], line 3\u001b[0m\n\u001b[1;32m      1\u001b[0m \u001b[38;5;66;03m# Que ocurre si no le pasamos un parámetro??\u001b[39;00m\n\u001b[0;32m----> 3\u001b[0m \u001b[43mmifuncion2\u001b[49m\u001b[43m(\u001b[49m\u001b[43m)\u001b[49m\n",
      "\u001b[0;31mTypeError\u001b[0m: mifuncion2() missing 1 required positional argument: 'nombre'"
     ]
    }
   ],
   "source": [
    "# Que ocurre si no le pasamos un parámetro??\n",
    "\n",
    "mifuncion2()"
   ]
  },
  {
   "cell_type": "markdown",
   "metadata": {
    "id": "WK9FflZAAAGG"
   },
   "source": [
    "\n",
    "## Función con parámetro por defecto\n",
    "\n",
    "\n",
    "\n",
    "Para evitar el error que obtuvimos anteriormente, podemos generar un parámetro por defecto:\n"
   ]
  },
  {
   "cell_type": "code",
   "execution_count": 88,
   "metadata": {
    "id": "INZlDMWZAJoe"
   },
   "outputs": [
    {
     "name": "stdout",
     "output_type": "stream",
     "text": [
      "Hola Persona misteriosa!! Soy una función muy guapa\n",
      "Hola Noelia!! Soy una función muy guapa\n"
     ]
    }
   ],
   "source": [
    "def mifuncion3(nombre=\"Persona misteriosa\"):\n",
    "    print(f\"Hola {nombre}!! Soy una función muy guapa\")\n",
    "\n",
    "mifuncion3()\n",
    "mifuncion3(\"Noelia\")"
   ]
  },
  {
   "cell_type": "markdown",
   "metadata": {
    "id": "6dnX9-wPAS72"
   },
   "source": [
    "\n",
    "### **Cuidado!!** cuando pasamos parámetros por defecto, éstos deben ir detrás de los otros parámetros\n",
    "\n",
    "### Caso contrario, se genera un error de sintaxis\n",
    "\n",
    "`SyntaxError: non-default argument follows default argument`\n"
   ]
  },
  {
   "cell_type": "code",
   "execution_count": 89,
   "metadata": {
    "id": "BUBbuVFPAfIO"
   },
   "outputs": [
    {
     "ename": "SyntaxError",
     "evalue": "non-default argument follows default argument (832166238.py, line 2)",
     "output_type": "error",
     "traceback": [
      "\u001b[0;36m  Cell \u001b[0;32mIn[89], line 2\u001b[0;36m\u001b[0m\n\u001b[0;31m    def datosPersonales(nombre='pepe', apellido, edad):\u001b[0m\n\u001b[0m                                       ^\u001b[0m\n\u001b[0;31mSyntaxError\u001b[0m\u001b[0;31m:\u001b[0m non-default argument follows default argument\n"
     ]
    }
   ],
   "source": [
    "# Esto genera un error de sintaxis\n",
    "def datosPersonales(nombre='pepe', apellido, edad):\n",
    "    pass"
   ]
  },
  {
   "cell_type": "code",
   "execution_count": 91,
   "metadata": {
    "id": "a1fp7D7PAldO"
   },
   "outputs": [
    {
     "name": "stdout",
     "output_type": "stream",
     "text": [
      "-------------------------------------------------------------\n",
      "Nombre = Maria\n",
      "Apellido = Peralta\n",
      "Edad = 32\n",
      "-------------------------------------------------------------\n",
      "-------------------------------------------------------------\n",
      "Nombre = NN\n",
      "Apellido = Perez\n",
      "Edad = 62\n",
      "-------------------------------------------------------------\n"
     ]
    }
   ],
   "source": [
    "# La manera correcta es\n",
    "def datosPersonales(apellido, edad, nombre=\"NN\"):\n",
    "    print(\"-------------------------------------------------------------\")\n",
    "    print(f\"Nombre = {nombre}\")\n",
    "    print(f\"Apellido = {apellido}\")\n",
    "    print(f\"Edad = {edad}\")\n",
    "    print(\"-------------------------------------------------------------\")\n",
    "\n",
    "\n",
    "datosPersonales(\"Peralta\", 32, \"Maria\")\n",
    "datosPersonales(\"Perez\", 62 )"
   ]
  },
  {
   "cell_type": "markdown",
   "metadata": {
    "id": "hMYeaPIKBLQu"
   },
   "source": [
    "\n",
    "## Pasar los argumentos en un orden distinto\n",
    "\n",
    "Es posible al invocar una función, pasar los argumentos en un orden diferente al definido. Pero para esto es necesario indicar el nombre del parámetro asociado.\n"
   ]
  },
  {
   "cell_type": "code",
   "execution_count": 92,
   "metadata": {
    "id": "VSPOrfyMAvk1"
   },
   "outputs": [
    {
     "name": "stdout",
     "output_type": "stream",
     "text": [
      "-------------------------------------------------------------\n",
      "Nombre = Jacinto\n",
      "Apellido = Pepe\n",
      "Edad = 15\n",
      "-------------------------------------------------------------\n"
     ]
    }
   ],
   "source": [
    "datosPersonales(nombre=\"Jacinto\", apellido=\"Pepe\", edad=15)"
   ]
  },
  {
   "cell_type": "markdown",
   "metadata": {
    "id": "2HRR6GgpBpw-"
   },
   "source": [
    "\n",
    "### Las funciones pueden devolver un valor mediante la sentencia return \n",
    "*(algo curioso de python es que aunque no usemos la sentencia return, las funciones siempre retornan un valor)*\n",
    "\n",
    "```\n",
    "def suma(a,b):\n",
    "\n",
    "    suma = a + b\n",
    "    return suma\n",
    "```\n",
    "\n",
    "No es necesario que creemos una variable interna para hacer la suma<br>\n",
    "\n",
    "```\n",
    "def suma2(a, b):\n",
    "    return a + b\n",
    "\n",
    "```\n",
    "\n",
    "También pueden retornar mas de un valor\n",
    "\n",
    "```\n",
    "def suma_resta(a, b):\n",
    "    return a + b, a-b\n",
    "\n",
    "```\n",
    "\n",
    "\n",
    "---"
   ]
  },
  {
   "cell_type": "code",
   "execution_count": 93,
   "metadata": {
    "id": "EcN2am2cB4Hu"
   },
   "outputs": [],
   "source": [
    "# Restorna 1 valor, la suma de a y b\n",
    "def suma(a,b):\n",
    "    suma = a + b\n",
    "    return suma\n",
    "\n",
    "# Restorna 1 valor, la suma de a y b\n",
    "def suma2(a, b):\n",
    "    return a + b\n",
    "\n",
    "\n",
    "# Restorna 2 valores, la suma de a y b y la resta de a y b\n",
    "def suma_resta(a, b):\n",
    "    return a + b, a-b\n",
    "\n"
   ]
  },
  {
   "cell_type": "code",
   "execution_count": 94,
   "metadata": {
    "id": "8Ut7sU9sB_Eu"
   },
   "outputs": [
    {
     "name": "stdout",
     "output_type": "stream",
     "text": [
      "(func suma)   35 + 23  = 58\n",
      "(func suma2)   35 + 23  = 58\n",
      "(func suma_resta)   35 + 23  = 58\n",
      "(func suma_resta)   35 - 23  = 12\n"
     ]
    }
   ],
   "source": [
    "a = 35\n",
    "b = 23\n",
    "\n",
    "res_suma_1 = suma(a,b)\n",
    "res_suma_2 = suma2(a,b)\n",
    "\n",
    "res_suma_3, res_resta_3 = suma_resta(a, b)\n",
    "\n",
    "print(f\"(func suma)   {a} + {b}  = {res_suma_1}\")\n",
    "print(f\"(func suma2)   {a} + {b}  = {res_suma_2}\")\n",
    "print(f\"(func suma_resta)   {a} + {b}  = {res_suma_3}\")\n",
    "print(f\"(func suma_resta)   {a} - {b}  = {res_resta_3}\")\n",
    "\n"
   ]
  },
  {
   "cell_type": "markdown",
   "metadata": {
    "id": "1ptDoQXhC2oY"
   },
   "source": [
    "\n",
    "### En python las funciones siempre retornan un valor (aunque no haya un return)\n"
   ]
  },
  {
   "cell_type": "code",
   "execution_count": 95,
   "metadata": {
    "id": "QEaUCftkC6jI"
   },
   "outputs": [
    {
     "name": "stdout",
     "output_type": "stream",
     "text": [
      "Hola. Soy una función que no tiene un return!\n",
      "valor_retornado =  None\n",
      "type(valor_retornado) = <class 'NoneType'>\n"
     ]
    }
   ],
   "source": [
    "def saludar():\n",
    "    print(\"Hola. Soy una función que no tiene un return!\")\n",
    "\n",
    "valor_retornado = saludar()\n",
    "\n",
    "print(\"valor_retornado = \",valor_retornado)\n",
    "print(\"type(valor_retornado) =\", type(valor_retornado))"
   ]
  },
  {
   "cell_type": "markdown",
   "metadata": {
    "id": "Zn5fBrYCDG5N"
   },
   "source": [
    "\n",
    "## **Cantidad variable de parámetros**\n",
    "\n",
    "\n",
    "**Es posible pasarle a una función una cantidad variable de argumentos**\n",
    "\n",
    "```\n",
    "def muchosArgs(*args):\n",
    "    if len(args)!=0:\n",
    "        for item in args:\n",
    "            print(item)\n",
    "        \n",
    "        print(f\"\\nCantidad de argumentos = {len(args)}\")\n",
    "    else:\n",
    "        print(\"La función se ha invocado sin argumentos!\")\n",
    "        \n",
    "```\n"
   ]
  },
  {
   "cell_type": "code",
   "execution_count": 96,
   "metadata": {
    "id": "iS05bmC6DN11"
   },
   "outputs": [],
   "source": [
    "def muchosArgs(*args):\n",
    "    if len(args)!=0:\n",
    "        for item in args:\n",
    "            print(item)\n",
    "        \n",
    "        print(f\"\\nCantidad de argumentos = {len(args)}\")\n",
    "    else:\n",
    "        print(\"La función se ha invocado sin argumentos!\")\n",
    "\n",
    "    print(\"-----------------------------------------------------------\")\n",
    "\n"
   ]
  },
  {
   "cell_type": "code",
   "execution_count": 97,
   "metadata": {
    "id": "HdIk7VTEDZ_5"
   },
   "outputs": [
    {
     "name": "stdout",
     "output_type": "stream",
     "text": [
      "La función se ha invocado sin argumentos!\n",
      "-----------------------------------------------------------\n"
     ]
    }
   ],
   "source": [
    "muchosArgs()"
   ]
  },
  {
   "cell_type": "code",
   "execution_count": 98,
   "metadata": {
    "id": "JlES9i4xDbsw"
   },
   "outputs": [
    {
     "name": "stdout",
     "output_type": "stream",
     "text": [
      "1\n",
      "2\n",
      "3\n",
      "4\n",
      "5\n",
      "6\n",
      "\n",
      "Cantidad de argumentos = 6\n",
      "-----------------------------------------------------------\n"
     ]
    }
   ],
   "source": [
    "muchosArgs(1,2,3,4,5,6)"
   ]
  },
  {
   "cell_type": "code",
   "execution_count": 99,
   "metadata": {
    "id": "EiIiXkxaDdxO"
   },
   "outputs": [
    {
     "name": "stdout",
     "output_type": "stream",
     "text": [
      "Perro\n",
      "Gato\n",
      "Tiburón\n",
      "\n",
      "Cantidad de argumentos = 3\n",
      "-----------------------------------------------------------\n"
     ]
    }
   ],
   "source": [
    "muchosArgs(\"Perro\", \"Gato\", \"Tiburón\")"
   ]
  },
  {
   "cell_type": "markdown",
   "metadata": {
    "id": "vtPHxyoVDkB-"
   },
   "source": [
    "\n",
    "## **Es posible pasar una cantidad variable de pares key-value también**\n",
    "\n",
    "```\n",
    "\n",
    "def keyValueVariable(**kwargs):\n",
    "    # kwargs es un diccionario\n",
    "\n",
    "    for k, v in kwargs.iteritems():\n",
    "        print(f\"key = {k}   value = {v}\")\n",
    "```\n"
   ]
  },
  {
   "cell_type": "code",
   "execution_count": 100,
   "metadata": {
    "id": "2Hfn2sV6DpEO"
   },
   "outputs": [
    {
     "name": "stdout",
     "output_type": "stream",
     "text": [
      "key = a   value = primer letra\n",
      "key = b   value = segunda letra\n",
      "key = z   value = última letra\n",
      "-------------------------------------------------------\n",
      "key = nombre   value = Maria\n",
      "key = apellido   value = Rodriguez\n",
      "key = edad   value = 45\n",
      "-------------------------------------------------------\n"
     ]
    }
   ],
   "source": [
    "def keyValueVariable(**kwargs):\n",
    "    # kwargs es un diccionario\n",
    "\n",
    "    for k, v in kwargs.items():\n",
    "        print(f\"key = {k}   value = {v}\")\n",
    "    \n",
    "    print(\"-------------------------------------------------------\")\n",
    "\n",
    "\n",
    "keyValueVariable(a=\"primer letra\", b= \"segunda letra\", z= \"última letra\")\n",
    "keyValueVariable(nombre=\"Maria\", apellido=\"Rodriguez\", edad=45)"
   ]
  },
  {
   "cell_type": "markdown",
   "metadata": {
    "id": "_yvtiEHIDw5m"
   },
   "source": [
    "\n",
    "## Pasaje por valor o por referencia ??\n",
    "\n",
    "\n",
    "\n",
    "* Los valores simples (enteros, flotantes, strings...) se pasan por valor --> se genera una copia y no se afecta el valor original\n",
    "* Los valores compuestos(listas, diccionarios) se pasan por referencia --> los cambios generados dentro de la función tienen efecto en el original\n",
    "\n",
    "### Pasaje por valor\n"
   ]
  },
  {
   "cell_type": "code",
   "execution_count": 101,
   "metadata": {
    "id": "AcINMrs8D3bP"
   },
   "outputs": [
    {
     "name": "stdout",
     "output_type": "stream",
     "text": [
      "(valor original) a =  700\n",
      "(dentro de la funcion) a =  710\n",
      "(fuera de la funcion) a =  700\n"
     ]
    }
   ],
   "source": [
    "def sumo_diez_y_muestro(a):\n",
    "    a = a+10\n",
    "    print(\"(dentro de la funcion) a = \",a)\n",
    "\n",
    "a = 700\n",
    "print(\"(valor original) a = \", a)\n",
    "sumo_diez_y_muestro(a)\n",
    "\n",
    "print(\"(fuera de la funcion) a = \",a)"
   ]
  },
  {
   "cell_type": "code",
   "execution_count": 102,
   "metadata": {
    "id": "TQ2LjvqPD8S2"
   },
   "outputs": [
    {
     "name": "stdout",
     "output_type": "stream",
     "text": [
      "(original) palabra =  Camello\n",
      "(dentro de la funcion) palabra =  Camello Weeeee\n",
      "(fuera de la funcion) palabra =  Camello\n"
     ]
    }
   ],
   "source": [
    "def agregoWeeee(palabra:str):\n",
    "    palabra = palabra + \" Weeeee\"\n",
    "    print(\"(dentro de la funcion) palabra = \", palabra)\n",
    "\n",
    "palabra = \"Camello\"\n",
    "\n",
    "print(\"(original) palabra = \", palabra)\n",
    "agregoWeeee(palabra)\n",
    "print(\"(fuera de la funcion) palabra = \", palabra)"
   ]
  },
  {
   "cell_type": "markdown",
   "metadata": {
    "id": "CehqHoRNEE1m"
   },
   "source": [
    "\n",
    "### Pasaje por referencia\n"
   ]
  },
  {
   "cell_type": "code",
   "execution_count": 105,
   "metadata": {
    "id": "en2d6cKUEKMm"
   },
   "outputs": [
    {
     "name": "stdout",
     "output_type": "stream",
     "text": [
      "(antes de invocar a la funcion)   lista =  [0, 1, 2, 3, 4, 5, 6, 7, 8, 9]\n",
      "(dentro de la funcion)            lista =  [3333, 1, 2, 3, 4, 5, 6, 7, 8, 4444]\n",
      "(despues de invocar a la funcion) lista =  [3333, 1, 2, 3, 4, 5, 6, 7, 8, 4444]\n"
     ]
    }
   ],
   "source": [
    "lista = list(range(10))\n",
    "print(\"(antes de invocar a la funcion)   lista = \", lista)\n",
    "\n",
    "def cambio_primero_ultimo_y_muestro(lista:list):\n",
    "    lista[0] = 3333\n",
    "    lista[-1] = 4444\n",
    "    print(\"(dentro de la funcion)            lista = \", lista)\n",
    "\n",
    "\n",
    "cambio_primero_ultimo_y_muestro(lista)\n",
    "print(\"(despues de invocar a la funcion) lista = \", lista)"
   ]
  }
 ],
 "metadata": {
  "colab": {
   "authorship_tag": "ABX9TyMFovhc1PS3XVM+7plUNU/1",
   "collapsed_sections": [],
   "include_colab_link": true,
   "name": "Inteligencia_Artificial_Crash_Course.ipynb",
   "provenance": []
  },
  "kernelspec": {
   "display_name": "Python 3 (ipykernel)",
   "language": "python",
   "name": "python3"
  },
  "language_info": {
   "codemirror_mode": {
    "name": "ipython",
    "version": 3
   },
   "file_extension": ".py",
   "mimetype": "text/x-python",
   "name": "python",
   "nbconvert_exporter": "python",
   "pygments_lexer": "ipython3",
   "version": "3.10.12"
  }
 },
 "nbformat": 4,
 "nbformat_minor": 1
}
